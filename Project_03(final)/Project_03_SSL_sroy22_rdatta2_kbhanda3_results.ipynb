{
  "cells": [
    {
      "cell_type": "markdown",
      "metadata": {
        "id": "V9eL9bji1aBJ"
      },
      "source": [
        "# ECE763 Project 03 (Final Course Project): Self-Supervised Learning"
      ]
    },
    {
      "cell_type": "markdown",
      "metadata": {
        "id": "nM1Z9hJO1aBM"
      },
      "source": [
        "### Objectives\n",
        "\n",
        "* Implemenet two self-supervised contrastive learning methods\n",
        "* Compare the representaitons via SSL with supervised baseline"
      ]
    },
    {
      "cell_type": "markdown",
      "metadata": {
        "id": "tGsSMAnO1aBM"
      },
      "source": [
        "### How to submit your solutions\n",
        "\n",
        "* Add your NCSU IDs (all team members if had) as the postfix of the notebook filename.\n",
        "* `If you have a team, please clearly state who contribute to which part(s) of the project.`\n",
        "* Submit two versions of your notebook, one is fully executed with all outputs (`Project_03_ViT_twu19_results.ipynb`), and the other with all outputs cleared (`Project_03_ViT_twu19_empty.ipynb`). We will re-run the latter and expect the results will be exactly the same as those in the former.\n",
        "* No late days"
      ]
    },
    {
      "cell_type": "markdown",
      "metadata": {
        "id": "IaHV-HV41aBN"
      },
      "source": [
        "### Team Contributions (if applicable)"
      ]
    },
    {
      "cell_type": "markdown",
      "metadata": {
        "id": "KFrz-P891aBN"
      },
      "source": [
        "### Overview\n",
        "\n",
        "How to learn good representations from unlabeled data (e.g., imagery data)? First of all, this data still contains a lot of information from which we can learn: how are the images different from each other? What patterns are descriptive for certain images? Can we cluster the images? And so on. Methods for self-supervised learning try to learn as much as possible from the data alone, so it can quickly be finetuned for a specific classification task.\n",
        "\n",
        "The benefit of self-supervised learning is that a large dataset can often easily be obtained. For instance, if we want to train a vision model on semantic segmentation for autonomous driving, we can collect large amounts of data by simply installing a camera in a car, and driving through a city for an hour. In contrast, if we would want to do supervised learning, we would have to manually label all those images before training a model. This is extremely expensive, and would likely take a couple of months to manually label the same amount of data. Further, self-supervised learning can provide an alternative to transfer learning from models pretrained on ImageNet since we could pretrain a model on a specific dataset/situation, e.g. traffic scenarios for autonomous driving.\n",
        "\n",
        "Within the last several years, a lot of new approaches have been proposed for self-supervised learning using images, that have resulted in great improvements over supervised models when few labels are available.\n",
        "\n",
        "Check our lecture notes 18-19 and references therein.\n",
        "\n",
        "\n"
      ]
    },
    {
      "cell_type": "markdown",
      "metadata": {
        "id": "29GAKS071aBN"
      },
      "source": [
        "## Let's first start with importing our standard libraries below"
      ]
    },
    {
      "cell_type": "code",
      "execution_count": null,
      "metadata": {
        "id": "tHSO_Pkk1aBN"
      },
      "outputs": [],
      "source": [
        "## Standard libraries\n",
        "import os\n",
        "from copy import deepcopy\n",
        "import json\n",
        "import math\n",
        "import random\n",
        "import numpy as np\n",
        "import copy\n",
        "import time\n",
        "\n",
        "## Imports for plotting\n",
        "%matplotlib inline\n",
        "from mpl_toolkits.mplot3d import Axes3D\n",
        "import matplotlib.pyplot as plt\n",
        "from matplotlib import cm\n",
        "import seaborn as sns\n",
        "sns.set_theme()\n",
        "\n",
        "## Progress bar\n",
        "from tqdm.notebook import tqdm\n",
        "\n",
        "## typing\n",
        "from typing import (\n",
        "    Any,\n",
        "    Callable,\n",
        "    Dict,\n",
        "    List,\n",
        "    Optional,\n",
        "    Sequence,\n",
        "    Set,\n",
        "    Tuple,\n",
        "    Type,\n",
        "    Union,\n",
        ")\n",
        "\n",
        "try:\n",
        "    from typing import Literal\n",
        "except ImportError:\n",
        "    from typing_extensions import Literal\n",
        "\n",
        "## PyTorch\n",
        "import torch\n",
        "import torch.nn as nn\n",
        "import torch.nn.functional as F\n",
        "import torch.utils.data as data\n",
        "import torch.optim as optim\n",
        "\n",
        "## PyTorch Torchvision\n",
        "import torchvision\n",
        "from torchvision.datasets import CIFAR10,STL10\n",
        "from torchvision import transforms\n",
        "\n",
        "\n",
        "# PyTorch Lightning\n",
        "try:\n",
        "    import pytorch_lightning as pl\n",
        "except ModuleNotFoundError:\n",
        "    !pip install --quiet pytorch-lightning>=1.6\n",
        "    import pytorch_lightning as pl\n",
        "from pytorch_lightning.callbacks import LearningRateMonitor, ModelCheckpoint\n",
        "\n",
        "# Import tensorboard\n",
        "%load_ext tensorboard\n"
      ]
    },
    {
      "cell_type": "markdown",
      "metadata": {
        "id": "BIEiQvnw1aBO"
      },
      "source": [
        "## Identify the system"
      ]
    },
    {
      "cell_type": "code",
      "execution_count": null,
      "metadata": {
        "id": "sGS03e3R1aBP",
        "outputId": "d0dca991-e48d-424f-c614-c9c0f653d6df"
      },
      "outputs": [
        {
          "name": "stdout",
          "output_type": "stream",
          "text": [
            "======================================== System Information ========================================\n",
            "System: Windows\n",
            "Node Name: EZIGO\n",
            "Release: 10\n",
            "Version: 10.0.22631\n",
            "Machine: AMD64\n",
            "Processor: AMD64 Family 25 Model 97 Stepping 2, AuthenticAMD\n",
            "======================================== Environment Information ========================================\n",
            "OrderedDict([('sys.platform', 'win32'),\n",
            "             ('Python',\n",
            "              '3.10.14 | packaged by Anaconda, Inc. | (main, Mar 21 2024, '\n",
            "              '16:20:14) [MSC v.1916 64 bit (AMD64)]'),\n",
            "             ('CUDA available', True),\n",
            "             ('MUSA available', False),\n",
            "             ('numpy_random_seed', 2147483648),\n",
            "             ('GPU 0', 'NVIDIA GeForce RTX 4090'),\n",
            "             ('CUDA_HOME', None),\n",
            "             ('GCC', 'n/a'),\n",
            "             ('PyTorch', '2.2.2+cu118'),\n",
            "             ('PyTorch compiling details',\n",
            "              'PyTorch built with:\\n'\n",
            "              '  - C++ Version: 201703\\n'\n",
            "              '  - MSVC 192930151\\n'\n",
            "              '  - Intel(R) Math Kernel Library Version 2020.0.2 Product Build '\n",
            "              '20200624 for Intel(R) 64 architecture applications\\n'\n",
            "              '  - Intel(R) MKL-DNN v3.3.2 (Git Hash '\n",
            "              '2dc95a2ad0841e29db8b22fbccaf3e5da7992b01)\\n'\n",
            "              '  - OpenMP 2019\\n'\n",
            "              '  - LAPACK is enabled (usually provided by MKL)\\n'\n",
            "              '  - CPU capability usage: AVX512\\n'\n",
            "              '  - CUDA Runtime 11.8\\n'\n",
            "              '  - NVCC architecture flags: '\n",
            "              '-gencode;arch=compute_37,code=sm_37;-gencode;arch=compute_50,code=sm_50;-gencode;arch=compute_60,code=sm_60;-gencode;arch=compute_61,code=sm_61;-gencode;arch=compute_70,code=sm_70;-gencode;arch=compute_75,code=sm_75;-gencode;arch=compute_80,code=sm_80;-gencode;arch=compute_86,code=sm_86;-gencode;arch=compute_90,code=sm_90;-gencode;arch=compute_37,code=compute_37\\n'\n",
            "              '  - CuDNN 8.7\\n'\n",
            "              '  - Magma 2.5.4\\n'\n",
            "              '  - Build settings: BLAS_INFO=mkl, BUILD_TYPE=Release, '\n",
            "              'CUDA_VERSION=11.8, CUDNN_VERSION=8.7.0, '\n",
            "              'CXX_COMPILER=C:/actions-runner/_work/pytorch/pytorch/builder/windows/tmp_bin/sccache-cl.exe, '\n",
            "              'CXX_FLAGS=/DWIN32 /D_WINDOWS /GR /EHsc /Zc:__cplusplus /bigobj '\n",
            "              '/FS /utf-8 -DUSE_PTHREADPOOL -DNDEBUG -DUSE_KINETO '\n",
            "              '-DLIBKINETO_NOCUPTI -DLIBKINETO_NOROCTRACER -DUSE_FBGEMM '\n",
            "              '-DUSE_XNNPACK -DSYMBOLICATE_MOBILE_DEBUG_HANDLE /wd4624 /wd4068 '\n",
            "              '/wd4067 /wd4267 /wd4661 /wd4717 /wd4244 /wd4804 /wd4273, '\n",
            "              'LAPACK_INFO=mkl, PERF_WITH_AVX=1, PERF_WITH_AVX2=1, '\n",
            "              'PERF_WITH_AVX512=1, TORCH_VERSION=2.2.2, USE_CUDA=ON, '\n",
            "              'USE_CUDNN=ON, USE_EXCEPTION_PTR=1, USE_GFLAGS=OFF, '\n",
            "              'USE_GLOG=OFF, USE_MKL=ON, USE_MKLDNN=ON, USE_MPI=OFF, '\n",
            "              'USE_NCCL=OFF, USE_NNPACK=OFF, USE_OPENMP=ON, USE_ROCM=OFF, '\n",
            "              'USE_ROCM_KERNEL_ASSERT=OFF, \\n'),\n",
            "             ('TorchVision', '0.17.2+cu118'),\n",
            "             ('OpenCV', '4.9.0'),\n",
            "             ('MMEngine', '0.10.3')])\n"
          ]
        }
      ],
      "source": [
        "import platform\n",
        "from mmengine.utils.dl_utils import collect_env\n",
        "from pprint import pprint\n",
        "\n",
        "print(\"=\" * 40, \"System Information\", \"=\" * 40)\n",
        "uname = platform.uname()\n",
        "print(f\"System: {uname.system}\")\n",
        "print(f\"Node Name: {uname.node}\")\n",
        "print(f\"Release: {uname.release}\")\n",
        "print(f\"Version: {uname.version}\")\n",
        "print(f\"Machine: {uname.machine}\")\n",
        "print(f\"Processor: {uname.processor}\")\n",
        "\n",
        "print(\"=\" * 40, \"Environment Information\", \"=\" * 40)\n",
        "my_env = collect_env()\n",
        "pprint(my_env)"
      ]
    },
    {
      "cell_type": "markdown",
      "metadata": {
        "id": "SLHOCFSt1aBP"
      },
      "source": [
        "## General settings"
      ]
    },
    {
      "cell_type": "code",
      "execution_count": null,
      "metadata": {
        "id": "0h-kQzph1aBP",
        "outputId": "b9f9f7d1-1712-4be8-eb06-5012c51bc4f2"
      },
      "outputs": [
        {
          "name": "stderr",
          "output_type": "stream",
          "text": [
            "Seed set to 42\n"
          ]
        },
        {
          "name": "stdout",
          "output_type": "stream",
          "text": [
            "Device: cuda:0\n",
            "Number of workers: 32\n"
          ]
        }
      ],
      "source": [
        "# Path to the folder where the datasets are/should be downloaded (e.g. CIFAR10)\n",
        "DATASET_PATH = \"../data\"\n",
        "# Path to the folder where the pretrained models are saved\n",
        "CHECKPOINT_PATH = \"../checkpoints/ece763-proj_03\"\n",
        "\n",
        "# Setting the seed\n",
        "pl.seed_everything(42)\n",
        "# In this notebook, we use data loaders with heavier computational processing. It is recommended to use as many\n",
        "# workers as possible in a data loader, which corresponds to the number of CPU cores\n",
        "NUM_WORKERS = os.cpu_count()\n",
        "\n",
        "# Ensure that all operations are deterministic on GPU (if used) for reproducibility\n",
        "torch.backends.cudnn.determinstic = True\n",
        "torch.backends.cudnn.benchmark = False\n",
        "\n",
        "device = torch.device(\"cuda:0\") if torch.cuda.is_available() else torch.device(\"cpu\")\n",
        "print(\"Device:\", device)\n",
        "print(\"Number of workers:\", NUM_WORKERS)"
      ]
    },
    {
      "cell_type": "markdown",
      "metadata": {
        "id": "WrT33YNV1aBQ"
      },
      "source": [
        "# Get started with implementing SimCLR\n",
        "\n",
        "It is a method of self-supervised `contrastive` learning. Contrastive learning is motivated by the question mentioned above: how are images different from each other? Specifically, contrastive learning methods train a model to cluster an image and its slightly augmented version in latent space, while the distance to other images should be maximized. A very recent and simple method for this is [SimCLR](https://arxiv.org/abs/2006.10029), which is visualized below (figure credit - [Ting Chen et al.](https://simclr.github.io/)).\n",
        "\n",
        "<center width=\"100%\"><img src=\"figures/simclr_contrastive_learning.png\" width=\"500px\"></center>\n",
        "\n",
        "The general setup is that we are given a dataset of images without any labels, and want to train a model on this data such that it can quickly adapt to any image recognition task afterward. During each training iteration, we sample a batch of images as usual. For each image, we create two versions by applying data augmentation techniques like cropping, Gaussian noise, blurring, etc. An example of such is shown on the left with the image of the dog. We will go into the details and effects of the chosen augmentation techniques later. On those images, we apply a CNN like ResNet and obtain as output a 1D feature vector on which we apply a small MLP. The output features of the two augmented images are then trained to be close to each other, while all other images in that batch should be as different as possible. This way, the model has to learn to recognize the content of the image that remains unchanged under the data augmentations, such as objects which we usually care about in supervised tasks.\n",
        "\n",
        "We will now implement this framework ourselves and discuss further details along the way."
      ]
    },
    {
      "cell_type": "markdown",
      "metadata": {
        "id": "5vYxcfhr1aBQ"
      },
      "source": [
        "## Dataset"
      ]
    },
    {
      "cell_type": "markdown",
      "metadata": {
        "id": "xsplyBsS1aBQ"
      },
      "source": [
        " We will use the [STL10 dataset](https://cs.stanford.edu/~acoates/stl10/), which, similarly to CIFAR10, contains images of 10 classes: `airplane, bird, car, cat, deer, dog, horse, monkey, ship, truck`. However, the images have a higher resolution, namely $96\\times 96$ pixels, and we are only provided with 500 labeled images per class. Additionally, we have a much larger set of $100,000$ unlabeled images which are similar to the training images but are sampled from a wider range of animals and vehicles. This makes the dataset ideal to showcase the benefits that self-supervised learning offers.\n",
        "\n",
        " However, to reduce the computationally complexity, we will downscale the images back to $32\\times 32$ pixels.  `Note: If you have sufficient GPU resources, you may try your implementation using` $96\\times 96$.\n",
        "\n",
        "Luckily, the STL10 dataset is provided through torchvision. Keep in mind, however, that since this dataset is relatively large and has a considerably higher resolution than CIFAR10, it requires more disk space (~3GB) and takes a bit of time to download. For our initial discussion of self-supervised learning and SimCLR, we will create two data loaders with our contrastive transformations above: the `unlabeled_data` will be used to train our model via contrastive learning, and `train_data_contrast` will be used as a validation set in contrastive learning."
      ]
    },
    {
      "cell_type": "markdown",
      "metadata": {
        "id": "ZPYi1M_G1aBQ"
      },
      "source": [
        "### Data Augmentation for Contrastive Learning\n",
        "\n",
        "We will start our exploration of contrastive learning by discussing the effect of different data augmentation techniques, and how we can implement an efficient data loader for such. To allow efficient training, we need to prepare the data loading such that we sample two different, random augmentations for each image in the batch. The easiest way to do this is by creating a transformation that, when being called, applies a set of data augmentations to an image twice. This is implemented in the class `ContrastiveTransformations` below:"
      ]
    },
    {
      "cell_type": "code",
      "execution_count": null,
      "metadata": {
        "id": "3MNa70wl1aBQ"
      },
      "outputs": [],
      "source": [
        "class ContrastiveTransformations(object):\n",
        "\n",
        "    def __init__(self, base_transforms, n_views=2):\n",
        "        self.base_transforms = base_transforms\n",
        "        self.n_views = n_views\n",
        "\n",
        "    def __call__(self, x):\n",
        "        return [self.base_transforms(x) for i in range(self.n_views)]"
      ]
    },
    {
      "cell_type": "markdown",
      "metadata": {
        "id": "qkMG75231aBQ"
      },
      "source": [
        "The contrastive learning framework can easily be extended to have more _positive_ examples by sampling more than two augmentations of the same image. However, the most efficient training is usually obtained by using only two.\n",
        "\n",
        "Next, we can look at the specific augmentations we want to apply. The choice of the data augmentation to use is the most crucial hyperparameter in SimCLR since it directly affects how the latent space is structured, and what patterns might be learned from the data. Let's first take a look at some of the most popular data augmentations (figure credit - [Ting Chen and Geoffrey Hinton](https://ai.googleblog.com/2020/04/advancing-self-supervised-and-semi.html)):\n",
        "\n",
        "<center width=\"100%\"><img src=\"figures/simclr_data_augmentations.png\" width=\"800px\" style=\"padding-top: 10px; padding-bottom: 10px\"></center>\n",
        "\n",
        "All of them can be used, but it turns out that two augmentations stand out in their importance: crop-and-resize, and color distortion. Interestingly, however, they only lead to strong performance if they have been used together as discussed by [Ting Chen et al.](https://arxiv.org/abs/2006.10029) in their SimCLR paper. When performing randomly cropping and resizing, we can distinguish between two situations: (a) cropped image A provides a local view of cropped image B, or (b) cropped images C and D show neighboring views of the same image (figure credit - [Ting Chen and Geoffrey Hinton](https://ai.googleblog.com/2020/04/advancing-self-supervised-and-semi.html)).\n",
        "\n",
        "<center width=\"100%\"><img src=\"figures/crop_views.svg\" width=\"400px\" style=\"padding-top: 20px; padding-bottom: 0px\"></center>\n",
        "\n",
        "While situation (a) requires the model to learn some sort of scale invariance to make crops A and B similar in latent space, situation (b) is more challenging since the model needs to recognize an object beyond its limited view. However, without color distortion, there is a loophole that the model can exploit, namely that different crops of the same image usually look very similar in color space. Consider the picture of the dog above. Simply from the color of the fur and the green color tone of the background, you can reason that two patches belong to the same image without actually recognizing the dog in the picture. In this case, the model might end up focusing only on the color histograms of the images, and ignore other more generalizable features. If, however, we distort the colors in the two patches randomly and independently of each other, the model cannot rely on this simple feature anymore. Hence, by combining random cropping and color distortions, the model can only match two patches by learning generalizable representations.\n",
        "\n"
      ]
    },
    {
      "cell_type": "code",
      "execution_count": null,
      "metadata": {
        "id": "2nQs8-YC1aBR"
      },
      "outputs": [],
      "source": [
        "# TODO data augmentaiton - [5 POINTS]\n",
        "# Overall, for our experiments, we apply a set of 5 transformations following the original SimCLR setup:\n",
        "# random horizontal flip,\n",
        "# crop-and-resize,\n",
        "# color distortion,\n",
        "# random grayscale,\n",
        "# and gaussian blur.\n",
        "# In comparison to the [original implementation](https://github.com/google-research/simclr),\n",
        "# we reduce the effect of the color jitter slightly (0.5 instead of 0.8 for brightness, contrast, and saturation, and 0.1 instead of 0.2 for hue).\n",
        "# In our experiments, this setting obtained better performance and was faster and more stable to train.\n",
        "# If, for instance, the brightness scale highly varies in a dataset, the original settings can be more beneficial\n",
        "# since the model can't rely on this information anymore to distinguish between images.\n",
        "# raise NotImplementedError\n",
        "contrast_transforms = transforms.Compose([transforms.RandomHorizontalFlip(),\n",
        "                                          transforms.RandomResizedCrop(size=32),\n",
        "                                          transforms.RandomApply([\n",
        "                                              transforms.ColorJitter(brightness=0.5,\n",
        "                                                                     contrast=0.5,\n",
        "                                                                     saturation=0.5,\n",
        "                                                                     hue=0.1)\n",
        "                                          ], p=0.8),\n",
        "                                          transforms.RandomGrayscale(p=0.2),\n",
        "                                          transforms.GaussianBlur(kernel_size=9),\n",
        "                                          transforms.ToTensor(),\n",
        "                                          transforms.Normalize((0.5,), (0.5,))\n",
        "                                         ])"
      ]
    },
    {
      "cell_type": "code",
      "execution_count": null,
      "metadata": {
        "id": "mHJH5PMg1aBR",
        "outputId": "e4fe2359-cf91-4778-ca98-6169c3311f4e"
      },
      "outputs": [
        {
          "name": "stdout",
          "output_type": "stream",
          "text": [
            "Files already downloaded and verified\n",
            "Files already downloaded and verified\n"
          ]
        }
      ],
      "source": [
        "unlabeled_data = STL10(root=DATASET_PATH, split='unlabeled', download=True,\n",
        "                       transform=ContrastiveTransformations(contrast_transforms, n_views=2))\n",
        "train_data_contrast = STL10(root=DATASET_PATH, split='train', download=True,\n",
        "                            transform=ContrastiveTransformations(contrast_transforms, n_views=2))"
      ]
    },
    {
      "cell_type": "code",
      "execution_count": null,
      "metadata": {
        "colab": {
          "referenced_widgets": [
            "5c31c79427224a709721b70df7638b27",
            "013de6679ade4b388f2a85b6b9f823e6"
          ]
        },
        "id": "UAgvgnJA1aBR",
        "outputId": "b6e3a2ba-aaed-4c93-81b6-689db51a9dd2"
      },
      "outputs": [
        {
          "data": {
            "application/vnd.jupyter.widget-view+json": {
              "model_id": "5c31c79427224a709721b70df7638b27",
              "version_major": 2,
              "version_minor": 0
            },
            "text/plain": [
              "  0%|          | 0/1000 [00:00<?, ?it/s]"
            ]
          },
          "metadata": {},
          "output_type": "display_data"
        },
        {
          "data": {
            "application/vnd.jupyter.widget-view+json": {
              "model_id": "013de6679ade4b388f2a85b6b9f823e6",
              "version_major": 2,
              "version_minor": 0
            },
            "text/plain": [
              "  0%|          | 0/50 [00:00<?, ?it/s]"
            ]
          },
          "metadata": {},
          "output_type": "display_data"
        }
      ],
      "source": [
        "# Downscale images to 32x32 directly in arrays to save RAM and data loading computation\n",
        "def downscale_dataset(dataset):\n",
        "    data = dataset.data\n",
        "    num_imgs = data.shape[0]\n",
        "    new_data = np.zeros((num_imgs, data.shape[1], 32, 32), dtype=data.dtype)\n",
        "    for i in tqdm(range(0, num_imgs, 100)):\n",
        "        new_data[i:i+100] = transforms.functional.resize(torch.from_numpy(data[i:i+100]).float(), size=[32, 32]).to(torch.uint8).numpy()\n",
        "    dataset.data = new_data\n",
        "\n",
        "downscale_dataset(unlabeled_data)\n",
        "downscale_dataset(train_data_contrast)"
      ]
    },
    {
      "cell_type": "markdown",
      "metadata": {
        "id": "pGSV-9QA1aBR"
      },
      "source": [
        "Finally, before starting with our implementation of SimCLR, let's look at some example image pairs sampled with our augmentations:"
      ]
    },
    {
      "cell_type": "code",
      "execution_count": null,
      "metadata": {
        "id": "x0iDI5q31aBR",
        "outputId": "72c0a16f-1302-43ff-a025-abf4ed3c7a28"
      },
      "outputs": [
        {
          "name": "stderr",
          "output_type": "stream",
          "text": [
            "Seed set to 42\n"
          ]
        },
        {
          "data": {
            "image/png": "[encoded data removed]",
            "text/plain": [
              "<Figure size 1400x700 with 1 Axes>"
            ]
          },
          "metadata": {},
          "output_type": "display_data"
        }
      ],
      "source": [
        "# Visualize some examples\n",
        "pl.seed_everything(42)\n",
        "NUM_IMAGES = 6\n",
        "imgs = torch.stack([img for idx in range(NUM_IMAGES) for img in unlabeled_data[idx][0]], dim=0)\n",
        "img_grid = torchvision.utils.make_grid(imgs, nrow=6, normalize=True, pad_value=0.9)\n",
        "img_grid = img_grid.permute(1, 2, 0)\n",
        "\n",
        "plt.figure(figsize=(14,7))\n",
        "plt.title('Augmented image examples of the STL10 dataset', fontsize=20)\n",
        "plt.imshow(img_grid)\n",
        "plt.axis('off')\n",
        "plt.show()\n",
        "plt.close()"
      ]
    },
    {
      "cell_type": "markdown",
      "metadata": {
        "id": "bZyPBeMm1aBR"
      },
      "source": [
        "We see the wide variety of our data augmentation, including randomly cropping, grayscaling, gaussian blur, and color distortion. Thus, it remains a challenging task for the model to match two, independently augmented patches of the same image."
      ]
    },
    {
      "cell_type": "markdown",
      "metadata": {
        "id": "2AM4mcE71aBR"
      },
      "source": [
        "## Part 1: SimCLR implementation\n",
        "\n",
        "Using the data loader pipeline above, we can now implement SimCLR. At each iteration, we get for every image $x$ two differently augmented versions, which we refer to as $\\tilde{x}_i$ and $\\tilde{x}_j$. Both of these images are encoded into a one-dimensional feature vector, between which we want to maximize similarity which minimizes it to all other images in the batch. The encoder network is split into two parts: a base encoder network $f(\\cdot)$, and a projection head $g(\\cdot)$. The base network is usually a deep CNN as we have seen before, and is responsible for extracting a representation vector from the augmented data examples. In our experiments, we will use a very simple `BaseNetwork` architecture as $f(\\cdot)$, and refer to the output as $f(\\tilde{x}_i)=h_i$. The projection head $g(\\cdot)$ maps the representation $h$ into a space where we apply the contrastive loss, i.e., compare similarities between vectors. It is often chosen to be a small MLP with non-linearities, and for simplicity, we follow the original SimCLR paper setup by defining it as a two-layer MLP with ReLU activation in the hidden layer. Note that in the follow-up paper, [SimCLRv2](https://arxiv.org/abs/2006.10029), the authors mention that larger/wider MLPs can boost the performance considerably. This is why we apply an MLP with four times larger hidden dimensions, but deeper MLPs showed to overfit on the given dataset. The general setup is visualized below (figure credit - [Ting Chen et al.](https://arxiv.org/abs/2006.10029)):\n",
        "\n",
        "<center width=\"100%\"><img src=\"figures/simclr_network_setup.svg\" width=\"350px\"></center>\n",
        "\n",
        "After finishing the training with contrastive learning, we will remove the projection head $g(\\cdot)$, and use $f(\\cdot)$ as a pretrained feature extractor. The representations $z$ that come out of the projection head $g(\\cdot)$ have been shown to perform worse than those of the base network $f(\\cdot)$ when finetuning the network for a new task. This is likely because the representations $z$ are trained to become invariant to many features like the color that can be important for downstream tasks. Thus, $g(\\cdot)$ is only needed for the contrastive learning stage.\n",
        "\n",
        "Let's first start by implementing a Base Network which will represent function $f(\\cdot)$. Usually, you would use very large, powerful networks like a deep ResNet, but these are very expensive to train. To reduce the computational cost and make it possible to train the models with limited computong resources, we provide a very simple CNN here:"
      ]
    },
    {
      "cell_type": "code",
      "execution_count": null,
      "metadata": {
        "id": "8ZEycSlM1aBR"
      },
      "outputs": [],
      "source": [
        "class BaseNetwork(nn.Module):\n",
        "\n",
        "    def __init__(self, num_input_channels, c_hid, output_dim):\n",
        "        \"\"\"\n",
        "        Inputs:\n",
        "            - num_input_channels : Number of input channels of the image. For CIFAR, this parameter is 3\n",
        "            - c_hid : Number of channels we use in the first convolutional layers. Deeper layers might use a duplicate of it.\n",
        "            - output_dim : Dimensionality of the final latent representation\n",
        "        \"\"\"\n",
        "        super().__init__()\n",
        "        self.net = nn.Sequential(\n",
        "            nn.Conv2d(num_input_channels, c_hid, kernel_size=3, padding=1, stride=2), # 32x32 => 16x16\n",
        "            nn.BatchNorm2d(c_hid),\n",
        "            nn.SiLU(),\n",
        "            nn.Conv2d(c_hid, c_hid, kernel_size=3, padding=1),\n",
        "            nn.BatchNorm2d(c_hid),\n",
        "            nn.SiLU(),\n",
        "            nn.Conv2d(c_hid, 2*c_hid, kernel_size=3, padding=1, stride=2), # 16x16 => 8x8\n",
        "            nn.BatchNorm2d(2*c_hid),\n",
        "            nn.SiLU(),\n",
        "            nn.Conv2d(2*c_hid, 2*c_hid, kernel_size=3, padding=1),\n",
        "            nn.BatchNorm2d(2*c_hid),\n",
        "            nn.SiLU(),\n",
        "            nn.Conv2d(2*c_hid, 2*c_hid, kernel_size=3, padding=1, stride=2), # 8x8 => 4x4\n",
        "            nn.BatchNorm2d(2*c_hid),\n",
        "            nn.SiLU(),\n",
        "            nn.Flatten(), # Image grid to single feature vector\n",
        "            nn.Linear(2*16*c_hid, output_dim)\n",
        "        )\n",
        "\n",
        "    def forward(self, x):\n",
        "        return self.net(x)"
      ]
    },
    {
      "cell_type": "markdown",
      "metadata": {
        "id": "46tjuyiV1aBS"
      },
      "source": [
        "Now that the architecture is described, let's take a closer look at how we train the model. As mentioned before, we want to maximize the similarity between the representations of the two augmented versions of the same image, i.e., $z_i$ and $z_j$ in the figure above, while minimizing it to all other examples in the batch. SimCLR thereby applies the InfoNCE loss, originally proposed by [Aaron van den Oord et al.](https://arxiv.org/abs/1807.03748) for contrastive learning. In short, the InfoNCE loss compares the similarity of $z_i$ and $z_j$ to the similarity of $z_i$ to any other representation in the batch by performing a softmax over the similarity values. The loss can be formally written as:\n",
        "\n",
        "$$\n",
        "\\ell_{i,j}=-\\log \\frac{\\exp(\\text{sim}(z_i,z_j)/\\tau)}{\\sum_{k=1}^{2N}\\mathbb{1}_{[k\\neq i]}\\exp(\\text{sim}(z_i,z_k)/\\tau)}=-\\text{sim}(z_i,z_j)/\\tau+\\log\\left[\\sum_{k=1}^{2N}\\mathbb{1}_{[k\\neq i]}\\exp(\\text{sim}(z_i,z_k)/\\tau)\\right]\n",
        "$$\n",
        "\n",
        "The function $\\text{sim}$ is a similarity metric, and the hyperparameter $\\tau$ is called temperature determining how peaked the distribution is. Since many similarity metrics are bounded, the temperature parameter allows us to balance the influence of many dissimilar image patches versus one similar patch. The similarity metric that is used in SimCLR is cosine similarity, as defined below:\n",
        "\n",
        "$$\n",
        "\\text{sim}(z_i,z_j) = \\frac{z_i^\\top \\cdot z_j}{||z_i||\\cdot||z_j||}\n",
        "$$\n",
        "\n",
        "The maximum cosine similarity possible is $1$, while the minimum is $-1$. In general, we will see that the features of two different images will converge to a cosine similarity around zero since the minimum, $-1$, would require $z_i$ and $z_j$ to be in the exact opposite direction in all feature dimensions, which does not allow for great flexibility.\n",
        "\n",
        "Finally, now that we have discussed all details, let's implement SimCLR below as a PyTorch Lightning module:"
      ]
    },
    {
      "cell_type": "code",
      "execution_count": null,
      "metadata": {
        "id": "_ctgGT1D1aBS"
      },
      "outputs": [],
      "source": [
        "class SimCLR(pl.LightningModule):\n",
        "\n",
        "    def __init__(self, hidden_dim, lr, temperature, weight_decay, max_epochs=500):\n",
        "        super().__init__()\n",
        "        self.save_hyperparameters()\n",
        "        assert self.hparams.temperature > 0.0, 'The temperature must be a positive float!'\n",
        "        # TODO: Setup the Base Network [5 POINTS]\n",
        "        # raise NotImplementedError\n",
        "\n",
        "        # Base model f(.)\n",
        "        self.base_network = BaseNetwork(num_input_channels=3, c_hid=hidden_dim, output_dim=4*hidden_dim)\n",
        "        # The MLP for g(.) consists of Linear->ReLU->Linear\n",
        "        self.base_network.net[-1] = nn.Sequential(self.base_network.net[-1],#call last layer of base network Linear(2*16*c_hid, 4*hidden_dim)\n",
        "                                                  nn.ReLU(inplace=True),\n",
        "                                                  nn.Linear(4*hidden_dim, hidden_dim)\n",
        "                                                  )\n",
        "\n",
        "    def configure_optimizers(self):\n",
        "        optimizer = optim.AdamW(self.parameters(),\n",
        "                                lr=self.hparams.lr,\n",
        "                                weight_decay=self.hparams.weight_decay)\n",
        "        lr_scheduler = optim.lr_scheduler.CosineAnnealingLR(optimizer,\n",
        "                                                            T_max=self.hparams.max_epochs,\n",
        "                                                            eta_min=self.hparams.lr/50)\n",
        "        return [optimizer], [lr_scheduler]\n",
        "\n",
        "    def info_nce_loss(self, batch, mode='train'):\n",
        "        imgs, _ = batch  # we do not need the labels here\n",
        "        # imgs is a list of length 2, where imgs[0][i] and imgs[1][i] are the positive pairs\n",
        "\n",
        "        # TODO: Calculate the contrastive loss of SimCLR. Try to be as efficient as possible [20 POINTS]\n",
        "        # Hint: if you add imgs into a batch where over dimension 0, you have [imgs[0],imgs[1]],\n",
        "        # the positive pair for an image at position i is always at (i + batch_size) % (2 * batch_size)\n",
        "        # Can you create a mask to find the positive element for each batch element?\n",
        "        # raise NotImplementedError\n",
        "        imgs = torch.cat(imgs, dim=0)\n",
        "\n",
        "        # Encode all images\n",
        "        feats = self.base_network(imgs)\n",
        "        # Calculate cosine similarity\n",
        "        cos_sim = F.cosine_similarity(feats[:,None,:], feats[None,:,:], dim=-1)\n",
        "        # Mask out cosine similarity to itself\n",
        "        self_mask = torch.eye(cos_sim.shape[0], dtype=torch.bool, device=cos_sim.device)\n",
        "        cos_sim.masked_fill_(self_mask, -9e15)\n",
        "        # Find positive example -> batch_size//2 away from the original example\n",
        "        pos_mask = self_mask.roll(shifts=cos_sim.shape[0]//2, dims=0)\n",
        "        # InfoNCE loss\n",
        "        cos_sim = cos_sim / self.hparams.temperature\n",
        "        loss = -cos_sim[pos_mask] + torch.logsumexp(cos_sim, dim=-1)\n",
        "        loss = loss.mean()\n",
        "        # Get ranking position of positive example\n",
        "        comb_sim = torch.cat([cos_sim[pos_mask][:,None],  # First position positive example\n",
        "                              cos_sim.masked_fill(pos_mask, -9e15)],\n",
        "                             dim=-1)\n",
        "        sim_argsort = comb_sim.argsort(dim=-1, descending=True).argmin(dim=-1)\n",
        "        # Log the loss and the top-1 and top-5 accuracy as how often the most similar image was the positive\n",
        "        self.log(mode+'_loss', loss)\n",
        "        self.log(mode + \"_acc_top1\", (sim_argsort == 0).float().mean())\n",
        "        self.log(mode + \"_acc_top5\", (sim_argsort < 5).float().mean())\n",
        "        self.log(mode + \"_acc_mean_pos\", 1 + sim_argsort.float().mean())\n",
        "\n",
        "        return loss\n",
        "\n",
        "    def training_step(self, batch, batch_idx):\n",
        "        return self.info_nce_loss(batch, mode='train')\n",
        "\n",
        "    def validation_step(self, batch, batch_idx):\n",
        "        self.info_nce_loss(batch, mode='val')"
      ]
    },
    {
      "cell_type": "markdown",
      "metadata": {
        "id": "E2LRlwBW1aBS"
      },
      "source": [
        "### Training\n",
        "\n",
        "Now that we have implemented SimCLR and the data loading pipeline, we are ready to train the model. We will use the same training function setup as usual. For saving the best model checkpoint, we track the metric `val_acc_top5`, which describes how often the correct image patch is within the top-5 most similar examples in the batch. This is usually less noisy than the top-1 metric, making it a better metric to choose the best model from."
      ]
    },
    {
      "cell_type": "code",
      "execution_count": null,
      "metadata": {
        "id": "vapkTiDl1aBS"
      },
      "outputs": [],
      "source": [
        "def train_simclr(batch_size, max_epochs=100, **kwargs):\n",
        "    trainer = pl.Trainer(default_root_dir=os.path.join(CHECKPOINT_PATH, 'SimCLR'),\n",
        "                         accelerator=\"gpu\" if str(device).startswith(\"cuda\") else \"cpu\",\n",
        "                         # accelerator=\"cpu\",\n",
        "                         devices=1,\n",
        "                         max_epochs=max_epochs,\n",
        "                         callbacks=[ModelCheckpoint(save_weights_only=True, mode='max', monitor='val_acc_top5'),\n",
        "                                    LearningRateMonitor('epoch')],\n",
        "                         # num_sanity_val_steps=0,\n",
        "                         check_val_every_n_epoch=5)\n",
        "    trainer.logger._default_hp_metric = None # Optional logging argument that we don't need\n",
        "\n",
        "    # Check whether pretrained model exists. If yes, load it and skip training\n",
        "    pretrained_filename = os.path.join(CHECKPOINT_PATH, 'SimCLR.ckpt')\n",
        "    if os.path.isfile(pretrained_filename):\n",
        "        print(f'Found pretrained model at {pretrained_filename}, loading...')\n",
        "        model = SimCLR.load_from_checkpoint(pretrained_filename) # Automatically loads the model with the saved hyperparameters\n",
        "    else:\n",
        "        # train_loader = data.DataLoader(unlabeled_data, batch_size=batch_size, shuffle=True,\n",
        "        #                                drop_last=True, pin_memory=True, num_workers=NUM_WORKERS)\n",
        "        # val_loader = data.DataLoader(train_data_contrast, batch_size=batch_size, shuffle=False,\n",
        "        #                              drop_last=False, pin_memory=True, num_workers=NUM_WORKERS,persistent_workers=True)\n",
        "        train_loader = data.DataLoader(unlabeled_data, batch_size=batch_size, shuffle=True,\n",
        "                               drop_last=True, pin_memory=True, num_workers=0)\n",
        "        val_loader = data.DataLoader(train_data_contrast, batch_size=batch_size, shuffle=False,\n",
        "                             drop_last=False, pin_memory=True, num_workers=0, persistent_workers=False)\n",
        "        pl.seed_everything(42) # To be reproducable\n",
        "        model = SimCLR(max_epochs=max_epochs, **kwargs)\n",
        "        trainer.fit(model, train_loader, val_loader)\n",
        "        model = SimCLR.load_from_checkpoint(trainer.checkpoint_callback.best_model_path) # Load best checkpoint after training\n",
        "\n",
        "    return model"
      ]
    },
    {
      "cell_type": "markdown",
      "metadata": {
        "id": "3euhoQFC1aBS"
      },
      "source": [
        "A common observation in contrastive learning is that the larger the batch size, the better the models perform. A larger batch size allows us to compare each image to more negative examples, leading to overall smoother loss gradients, but a batch size of 256 is sufficient here. Again, for a first run, you can use 10 epochs, but try to increase the number of epochs for a final run."
      ]
    },
    {
      "cell_type": "code",
      "execution_count": null,
      "metadata": {
        "colab": {
          "referenced_widgets": [
            "",
            "f24d6c13f03f414685f78b9aafe8ecd2"
          ]
        },
        "id": "JfW6J3Sv1aBS",
        "outputId": "54fb00c9-07cd-456d-8c78-d945db4220a9"
      },
      "outputs": [
        {
          "name": "stderr",
          "output_type": "stream",
          "text": [
            "GPU available: True (cuda), used: True\n",
            "TPU available: False, using: 0 TPU cores\n",
            "IPU available: False, using: 0 IPUs\n",
            "HPU available: False, using: 0 HPUs\n",
            "Seed set to 42\n",
            "You are using a CUDA device ('NVIDIA GeForce RTX 4090') that has Tensor Cores. To properly utilize them, you should set `torch.set_float32_matmul_precision('medium' | 'high')` which will trade-off precision for performance. For more details, read https://pytorch.org/docs/stable/generated/torch.set_float32_matmul_precision.html#torch.set_float32_matmul_precision\n",
            "LOCAL_RANK: 0 - CUDA_VISIBLE_DEVICES: [0]\n",
            "\n",
            "  | Name         | Type        | Params\n",
            "---------------------------------------------\n",
            "0 | base_network | BaseNetwork | 3.8 M \n",
            "---------------------------------------------\n",
            "3.8 M     Trainable params\n",
            "0         Non-trainable params\n",
            "3.8 M     Total params\n",
            "15.167    Total estimated model params size (MB)\n"
          ]
        },
        {
          "data": {
            "application/vnd.jupyter.widget-view+json": {
              "model_id": "",
              "version_major": 2,
              "version_minor": 0
            },
            "text/plain": [
              "Sanity Checking: |                                                                               | 0/? [00:00<…"
            ]
          },
          "metadata": {},
          "output_type": "display_data"
        },
        {
          "name": "stderr",
          "output_type": "stream",
          "text": [
            "D:\\Anaconda3\\envs\\proj2\\lib\\site-packages\\pytorch_lightning\\trainer\\connectors\\data_connector.py:441: The 'val_dataloader' does not have many workers which may be a bottleneck. Consider increasing the value of the `num_workers` argument` to `num_workers=31` in the `DataLoader` to improve performance.\n",
            "D:\\Anaconda3\\envs\\proj2\\lib\\site-packages\\pytorch_lightning\\trainer\\connectors\\data_connector.py:441: The 'train_dataloader' does not have many workers which may be a bottleneck. Consider increasing the value of the `num_workers` argument` to `num_workers=31` in the `DataLoader` to improve performance.\n"
          ]
        },
        {
          "data": {
            "application/vnd.jupyter.widget-view+json": {
              "model_id": "f24d6c13f03f414685f78b9aafe8ecd2",
              "version_major": 2,
              "version_minor": 0
            },
            "text/plain": [
              "Training: |                                                                                      | 0/? [00:00<…"
            ]
          },
          "metadata": {},
          "output_type": "display_data"
        },
        {
          "data": {
            "application/vnd.jupyter.widget-view+json": {
              "model_id": "",
              "version_major": 2,
              "version_minor": 0
            },
            "text/plain": [
              "Validation: |                                                                                    | 0/? [00:00<…"
            ]
          },
          "metadata": {},
          "output_type": "display_data"
        },
        {
          "data": {
            "application/vnd.jupyter.widget-view+json": {
              "model_id": "",
              "version_major": 2,
              "version_minor": 0
            },
            "text/plain": [
              "Validation: |                                                                                    | 0/? [00:00<…"
            ]
          },
          "metadata": {},
          "output_type": "display_data"
        },
        {
          "data": {
            "application/vnd.jupyter.widget-view+json": {
              "model_id": "",
              "version_major": 2,
              "version_minor": 0
            },
            "text/plain": [
              "Validation: |                                                                                    | 0/? [00:00<…"
            ]
          },
          "metadata": {},
          "output_type": "display_data"
        },
        {
          "data": {
            "application/vnd.jupyter.widget-view+json": {
              "model_id": "",
              "version_major": 2,
              "version_minor": 0
            },
            "text/plain": [
              "Validation: |                                                                                    | 0/? [00:00<…"
            ]
          },
          "metadata": {},
          "output_type": "display_data"
        },
        {
          "data": {
            "application/vnd.jupyter.widget-view+json": {
              "model_id": "",
              "version_major": 2,
              "version_minor": 0
            },
            "text/plain": [
              "Validation: |                                                                                    | 0/? [00:00<…"
            ]
          },
          "metadata": {},
          "output_type": "display_data"
        },
        {
          "data": {
            "application/vnd.jupyter.widget-view+json": {
              "model_id": "",
              "version_major": 2,
              "version_minor": 0
            },
            "text/plain": [
              "Validation: |                                                                                    | 0/? [00:00<…"
            ]
          },
          "metadata": {},
          "output_type": "display_data"
        },
        {
          "data": {
            "application/vnd.jupyter.widget-view+json": {
              "model_id": "",
              "version_major": 2,
              "version_minor": 0
            },
            "text/plain": [
              "Validation: |                                                                                    | 0/? [00:00<…"
            ]
          },
          "metadata": {},
          "output_type": "display_data"
        },
        {
          "data": {
            "application/vnd.jupyter.widget-view+json": {
              "model_id": "",
              "version_major": 2,
              "version_minor": 0
            },
            "text/plain": [
              "Validation: |                                                                                    | 0/? [00:00<…"
            ]
          },
          "metadata": {},
          "output_type": "display_data"
        },
        {
          "data": {
            "application/vnd.jupyter.widget-view+json": {
              "model_id": "",
              "version_major": 2,
              "version_minor": 0
            },
            "text/plain": [
              "Validation: |                                                                                    | 0/? [00:00<…"
            ]
          },
          "metadata": {},
          "output_type": "display_data"
        },
        {
          "data": {
            "application/vnd.jupyter.widget-view+json": {
              "model_id": "",
              "version_major": 2,
              "version_minor": 0
            },
            "text/plain": [
              "Validation: |                                                                                    | 0/? [00:00<…"
            ]
          },
          "metadata": {},
          "output_type": "display_data"
        },
        {
          "data": {
            "application/vnd.jupyter.widget-view+json": {
              "model_id": "",
              "version_major": 2,
              "version_minor": 0
            },
            "text/plain": [
              "Validation: |                                                                                    | 0/? [00:00<…"
            ]
          },
          "metadata": {},
          "output_type": "display_data"
        },
        {
          "data": {
            "application/vnd.jupyter.widget-view+json": {
              "model_id": "",
              "version_major": 2,
              "version_minor": 0
            },
            "text/plain": [
              "Validation: |                                                                                    | 0/? [00:00<…"
            ]
          },
          "metadata": {},
          "output_type": "display_data"
        },
        {
          "data": {
            "application/vnd.jupyter.widget-view+json": {
              "model_id": "",
              "version_major": 2,
              "version_minor": 0
            },
            "text/plain": [
              "Validation: |                                                                                    | 0/? [00:00<…"
            ]
          },
          "metadata": {},
          "output_type": "display_data"
        },
        {
          "data": {
            "application/vnd.jupyter.widget-view+json": {
              "model_id": "",
              "version_major": 2,
              "version_minor": 0
            },
            "text/plain": [
              "Validation: |                                                                                    | 0/? [00:00<…"
            ]
          },
          "metadata": {},
          "output_type": "display_data"
        },
        {
          "data": {
            "application/vnd.jupyter.widget-view+json": {
              "model_id": "",
              "version_major": 2,
              "version_minor": 0
            },
            "text/plain": [
              "Validation: |                                                                                    | 0/? [00:00<…"
            ]
          },
          "metadata": {},
          "output_type": "display_data"
        },
        {
          "data": {
            "application/vnd.jupyter.widget-view+json": {
              "model_id": "",
              "version_major": 2,
              "version_minor": 0
            },
            "text/plain": [
              "Validation: |                                                                                    | 0/? [00:00<…"
            ]
          },
          "metadata": {},
          "output_type": "display_data"
        },
        {
          "data": {
            "application/vnd.jupyter.widget-view+json": {
              "model_id": "",
              "version_major": 2,
              "version_minor": 0
            },
            "text/plain": [
              "Validation: |                                                                                    | 0/? [00:00<…"
            ]
          },
          "metadata": {},
          "output_type": "display_data"
        },
        {
          "data": {
            "application/vnd.jupyter.widget-view+json": {
              "model_id": "",
              "version_major": 2,
              "version_minor": 0
            },
            "text/plain": [
              "Validation: |                                                                                    | 0/? [00:00<…"
            ]
          },
          "metadata": {},
          "output_type": "display_data"
        },
        {
          "data": {
            "application/vnd.jupyter.widget-view+json": {
              "model_id": "",
              "version_major": 2,
              "version_minor": 0
            },
            "text/plain": [
              "Validation: |                                                                                    | 0/? [00:00<…"
            ]
          },
          "metadata": {},
          "output_type": "display_data"
        },
        {
          "data": {
            "application/vnd.jupyter.widget-view+json": {
              "model_id": "",
              "version_major": 2,
              "version_minor": 0
            },
            "text/plain": [
              "Validation: |                                                                                    | 0/? [00:00<…"
            ]
          },
          "metadata": {},
          "output_type": "display_data"
        },
        {
          "name": "stderr",
          "output_type": "stream",
          "text": [
            "`Trainer.fit` stopped: `max_epochs=100` reached.\n"
          ]
        }
      ],
      "source": [
        "simclr_model = train_simclr(batch_size=512,\n",
        "                            hidden_dim=128,\n",
        "                            lr=5e-4,\n",
        "                            temperature=0.07,\n",
        "                            weight_decay=1e-4,\n",
        "                            max_epochs=100)"
      ]
    },
    {
      "cell_type": "markdown",
      "metadata": {
        "id": "D7CMDoBm1aBS"
      },
      "source": [
        "To get an intuition of how training with contrastive learning behaves, we can take a look at the TensorBoard below:"
      ]
    },
    {
      "cell_type": "code",
      "execution_count": null,
      "metadata": {
        "id": "syJdcvGp1aBS",
        "outputId": "4820aa0f-8283-4413-e5d1-aa9cbf719985"
      },
      "outputs": [
        {
          "data": {
            "text/html": [
              "\n",
              "      <iframe id=\"tensorboard-frame-bdd640fb06671ad1\" width=\"100%\" height=\"800\" frameborder=\"0\">\n",
              "      </iframe>\n",
              "      <script>\n",
              "        (function() {\n",
              "          const frame = document.getElementById(\"tensorboard-frame-bdd640fb06671ad1\");\n",
              "          const url = new URL(\"/\", window.location);\n",
              "          const port = 8080;\n",
              "          if (port) {\n",
              "            url.port = port;\n",
              "          }\n",
              "          frame.src = url;\n",
              "        })();\n",
              "      </script>\n",
              "    "
            ],
            "text/plain": [
              "<IPython.core.display.HTML object>"
            ]
          },
          "metadata": {},
          "output_type": "display_data"
        }
      ],
      "source": [
        "%tensorboard --logdir ../checkpoints/ece763-proj_03/SimCLR/ --port 8080"
      ]
    },
    {
      "cell_type": "markdown",
      "metadata": {
        "id": "1E23vrE51aBT"
      },
      "source": [
        "In your report, show the top-1 and top-5 accuracy validation curves. Discuss the overall performance and the training speed. Is the model already converged? What does the final performance of the model imply about the learned feature space?\n",
        "![image.png](attachment:1a962f38-f66a-4cbf-9b81-2808966e3edb.png)\n",
        "![image.png](attachment:c3f2ab5c-b621-46f6-af5d-c4c8b7793da1.png)\n",
        "- overall simclr learns good feature representations without labelled data\n",
        "- Training speed is quite slow\n",
        "- The model is already converged"
      ]
    },
    {
      "cell_type": "markdown",
      "metadata": {
        "id": "FVsTM1bt1aBT"
      },
      "source": [
        "## Part 2: Logistic Regression\n",
        "\n",
        "After we have trained our model via contrastive learning, we can deploy it on downstream tasks and see how well it performs with little data. A common setup, which also verifies whether the model has learned generalized representations, is to perform Logistic Regression on the features. In other words, we learn a single, linear layer that maps the representations to a class prediction. Since the base network $f(\\cdot)$ is not changed during the training process, the model can only perform well if the representations of $h$ describe all features that might be necessary for the task. Further, we do not have to worry too much about overfitting since we have very few parameters that are trained. Hence, we might expect that the model can perform well even with very little data.\n",
        "\n",
        "First, let's implement a simple Logistic Regression setup for which we assume that the images already have been encoded in their feature vectors. If very little data is available, it might be beneficial to dynamically encode the images during training so that we can also apply data augmentations. However, the way we implement it here is much more efficient and can be trained within a few seconds. Further, using data augmentations did not show any significant gain in this simple setup."
      ]
    },
    {
      "cell_type": "code",
      "execution_count": null,
      "metadata": {
        "id": "Dx7ZecdY1aBT"
      },
      "outputs": [],
      "source": [
        "class LogisticRegression(pl.LightningModule):\n",
        "\n",
        "    def __init__(self, feature_dim, num_classes, lr, weight_decay, max_epochs=100):\n",
        "        super().__init__()\n",
        "        self.save_hyperparameters()\n",
        "        # Mapping from representation h to classes\n",
        "        # Initialize logistic regression model\n",
        "        self.model = nn.Linear(feature_dim, num_classes)\n",
        "\n",
        "    def configure_optimizers(self):\n",
        "        optimizer = optim.AdamW(self.parameters(),\n",
        "                                lr=self.hparams.lr,\n",
        "                                weight_decay=self.hparams.weight_decay)\n",
        "        lr_scheduler = optim.lr_scheduler.MultiStepLR(optimizer,\n",
        "                                                      milestones=[int(self.hparams.max_epochs*0.6),\n",
        "                                                                  int(self.hparams.max_epochs*0.8)],\n",
        "                                                      gamma=0.1)\n",
        "        return [optimizer], [lr_scheduler]\n",
        "\n",
        "    def _calculate_loss(self, batch, mode='train'):\n",
        "        # TODO: Calculate classification loss for logistic regression model [5 POINTS]\n",
        "        # raise NotImplementedError\n",
        "        feats, labels = batch\n",
        "        preds = self.model(feats)\n",
        "        loss = F.cross_entropy(preds, labels)\n",
        "        acc = (preds.argmax(dim=-1) == labels).float().mean()\n",
        "\n",
        "        self.log(mode + \"_loss\", loss)\n",
        "        self.log(mode + \"_acc\", acc)\n",
        "        return loss\n",
        "\n",
        "    def training_step(self, batch, batch_idx):\n",
        "        return self._calculate_loss(batch, mode='train')\n",
        "\n",
        "    def validation_step(self, batch, batch_idx):\n",
        "        self._calculate_loss(batch, mode='val')\n",
        "\n",
        "    def test_step(self, batch, batch_idx):\n",
        "        self._calculate_loss(batch, mode='test')"
      ]
    },
    {
      "cell_type": "markdown",
      "metadata": {
        "id": "TVp5-K_41aBT"
      },
      "source": [
        "The data we use is the training and test set of STL10. The training contains 500 images per class, while the test set has 800 images per class."
      ]
    },
    {
      "cell_type": "code",
      "execution_count": null,
      "metadata": {
        "colab": {
          "referenced_widgets": [
            "bdf2677119794adc8f7cee1a3ad3df4c",
            "b0663e0880374a77aaded036148e1569"
          ]
        },
        "id": "h94cojR31aBT",
        "outputId": "9fcfae0f-20f6-4df7-e193-382ab5c4a83b"
      },
      "outputs": [
        {
          "name": "stdout",
          "output_type": "stream",
          "text": [
            "Files already downloaded and verified\n",
            "Files already downloaded and verified\n"
          ]
        },
        {
          "data": {
            "application/vnd.jupyter.widget-view+json": {
              "model_id": "bdf2677119794adc8f7cee1a3ad3df4c",
              "version_major": 2,
              "version_minor": 0
            },
            "text/plain": [
              "  0%|          | 0/50 [00:00<?, ?it/s]"
            ]
          },
          "metadata": {},
          "output_type": "display_data"
        },
        {
          "data": {
            "application/vnd.jupyter.widget-view+json": {
              "model_id": "b0663e0880374a77aaded036148e1569",
              "version_major": 2,
              "version_minor": 0
            },
            "text/plain": [
              "  0%|          | 0/80 [00:00<?, ?it/s]"
            ]
          },
          "metadata": {},
          "output_type": "display_data"
        },
        {
          "name": "stdout",
          "output_type": "stream",
          "text": [
            "Number of training examples: 5000\n",
            "Number of test examples: 8000\n"
          ]
        }
      ],
      "source": [
        "img_transforms = transforms.Compose([transforms.ToTensor(),\n",
        "                                     transforms.Normalize((0.5,), (0.5,))])\n",
        "\n",
        "train_img_data = STL10(root=DATASET_PATH, split='train', download=True,\n",
        "                       transform=img_transforms)\n",
        "test_img_data = STL10(root=DATASET_PATH, split='test', download=True,\n",
        "                      transform=img_transforms)\n",
        "downscale_dataset(train_img_data)\n",
        "downscale_dataset(test_img_data)\n",
        "\n",
        "print(\"Number of training examples:\", len(train_img_data))\n",
        "print(\"Number of test examples:\", len(test_img_data))"
      ]
    },
    {
      "cell_type": "markdown",
      "metadata": {
        "id": "C6DLW0Tm1aBT"
      },
      "source": [
        "Next, we implement a small function to encode all images in our datasets. The output representations are then used as inputs to the Logistic Regression model."
      ]
    },
    {
      "cell_type": "code",
      "execution_count": null,
      "metadata": {
        "id": "JaNzqTGO1aBe"
      },
      "outputs": [],
      "source": [
        "@torch.no_grad()\n",
        "def prepare_data_features(model, dataset):\n",
        "    # TODO: Obtain the feature representation for all images in the dataset [5 POINTS]\n",
        "    # raise NotImplementedError\n",
        "    network = deepcopy(model.base_network)\n",
        "    network.net[-1] = nn.Identity() # Removing projection head g(.)\n",
        "    network.eval()\n",
        "    network.to(device)\n",
        "\n",
        "    # Encode all images\n",
        "    data_loader = data.DataLoader(dataset, batch_size=64, num_workers=0, shuffle=False, drop_last=False)\n",
        "    feats, labels = [], []\n",
        "    for batch_imgs, batch_labels in tqdm(data_loader):\n",
        "        batch_imgs = batch_imgs.to(device)\n",
        "        batch_feats = network(batch_imgs)\n",
        "        feats.append(batch_feats.detach().cpu())\n",
        "        labels.append(batch_labels)\n",
        "    feats = torch.cat(feats, dim=0)\n",
        "    labels = torch.cat(labels, dim=0)\n",
        "    # Sort images by labels\n",
        "    labels, idxs = labels.sort()\n",
        "    feats = feats[idxs]\n",
        "\n",
        "    # Return a new dataset with the image features and labels\n",
        "    return data.TensorDataset(feats, labels)"
      ]
    },
    {
      "cell_type": "markdown",
      "metadata": {
        "id": "YYPFWYhO1aBe"
      },
      "source": [
        "Let's apply the function to both training and test set below."
      ]
    },
    {
      "cell_type": "code",
      "execution_count": null,
      "metadata": {
        "colab": {
          "referenced_widgets": [
            "9b559693bd9849e586cab77d145a4f6c",
            "1fb438f1dae14604bd7374a5a2fe57f8"
          ]
        },
        "id": "EnEpTaz01aBe",
        "outputId": "d761f6d5-40ab-45e8-b616-84ab09dc71a0"
      },
      "outputs": [
        {
          "data": {
            "application/vnd.jupyter.widget-view+json": {
              "model_id": "9b559693bd9849e586cab77d145a4f6c",
              "version_major": 2,
              "version_minor": 0
            },
            "text/plain": [
              "  0%|          | 0/79 [00:00<?, ?it/s]"
            ]
          },
          "metadata": {},
          "output_type": "display_data"
        },
        {
          "data": {
            "application/vnd.jupyter.widget-view+json": {
              "model_id": "1fb438f1dae14604bd7374a5a2fe57f8",
              "version_major": 2,
              "version_minor": 0
            },
            "text/plain": [
              "  0%|          | 0/125 [00:00<?, ?it/s]"
            ]
          },
          "metadata": {},
          "output_type": "display_data"
        }
      ],
      "source": [
        "train_feats_simclr = prepare_data_features(simclr_model, train_img_data)\n",
        "test_feats_simclr = prepare_data_features(simclr_model, test_img_data)"
      ]
    },
    {
      "cell_type": "markdown",
      "metadata": {
        "id": "YFnRtnZw1aBe"
      },
      "source": [
        "Finally, we can write a training function as usual. We evaluate the model on the test set every 10 epochs to allow early stopping, but the low frequency of the validation ensures that we do not overfit too much on the test set."
      ]
    },
    {
      "cell_type": "code",
      "execution_count": null,
      "metadata": {
        "id": "OnZso2f71aBf"
      },
      "outputs": [],
      "source": [
        "def train_logreg(batch_size, train_feats_data, test_feats_data, model_suffix, max_epochs=100, **kwargs):\n",
        "    trainer = pl.Trainer(\n",
        "        default_root_dir=os.path.join(CHECKPOINT_PATH, \"LogisticRegression\"),\n",
        "        accelerator=\"gpu\" if str(device).startswith(\"cuda\") else \"cpu\",\n",
        "        devices=1,\n",
        "        max_epochs=max_epochs,\n",
        "        callbacks=[\n",
        "            ModelCheckpoint(save_weights_only=True, mode=\"max\", monitor=\"val_acc\"),\n",
        "            LearningRateMonitor(\"epoch\"),\n",
        "        ],\n",
        "        enable_progress_bar=False,\n",
        "        check_val_every_n_epoch=10,\n",
        "    )\n",
        "    trainer.logger._default_hp_metric = None\n",
        "\n",
        "    # Data loaders\n",
        "    train_loader = data.DataLoader(train_feats_data, batch_size=batch_size, shuffle=True,\n",
        "                                   drop_last=False, pin_memory=True, num_workers=0)\n",
        "    test_loader = data.DataLoader(test_feats_data, batch_size=batch_size, shuffle=False,\n",
        "                                  drop_last=False, pin_memory=True, num_workers=0)\n",
        "\n",
        "    # Check whether pretrained model exists. If yes, load it and skip training\n",
        "    pretrained_filename = os.path.join(CHECKPOINT_PATH, f\"LogisticRegression_{model_suffix}.ckpt\")\n",
        "    if os.path.isfile(pretrained_filename):\n",
        "        print(f\"Found pretrained model at {pretrained_filename}, loading...\")\n",
        "        model = LogisticRegression.load_from_checkpoint(pretrained_filename)\n",
        "    else:\n",
        "        pl.seed_everything(42)  # To be reproducable\n",
        "        model = LogisticRegression(**kwargs)\n",
        "        trainer.fit(model, train_loader, test_loader)\n",
        "        model = LogisticRegression.load_from_checkpoint(trainer.checkpoint_callback.best_model_path)\n",
        "\n",
        "    # Test best model on train and validation set\n",
        "    train_result = trainer.test(model, train_loader, verbose=False)\n",
        "    test_result = trainer.test(model, test_loader, verbose=False)\n",
        "    result = {\"train\": train_result[0][\"test_acc\"], \"test\": test_result[0][\"test_acc\"]}\n",
        "\n",
        "    return model, result"
      ]
    },
    {
      "cell_type": "markdown",
      "metadata": {
        "id": "HIQzUBf91aBf"
      },
      "source": [
        "Despite the training dataset of STL10 already only having 500 labeled images per class, we will perform experiments with even smaller datasets. Specifically, we train a Logistic Regression model for datasets with only 10, 20, 50, 100, 200, and all 500 examples per class. This gives us an intuition on how well the representations learned by contrastive learning can be transfered to a image recognition task like this classification. First, let's define a function to create the intended sub-datasets from the full training set:"
      ]
    },
    {
      "cell_type": "code",
      "execution_count": null,
      "metadata": {
        "id": "ejDZjVZJ1aBf"
      },
      "outputs": [],
      "source": [
        "def get_smaller_dataset(original_dataset, num_imgs_per_label):\n",
        "    # TODO: Return dataset with the first N images per label [5 POINTS]\n",
        "    # raise NotImplementedError\n",
        "    new_dataset = data.TensorDataset(\n",
        "        *(t.unflatten(0, (10, 500))[:, :num_imgs_per_label].flatten(0, 1) for t in original_dataset.tensors)\n",
        "    )\n",
        "    return new_dataset"
      ]
    },
    {
      "cell_type": "markdown",
      "metadata": {
        "id": "Gi3hg3i21aBf"
      },
      "source": [
        "Next, let's run all models. Despite us training 6 models, this cell could be run within a minute or two without the pretrained models."
      ]
    },
    {
      "cell_type": "code",
      "execution_count": null,
      "metadata": {
        "id": "SYZ4XIa_1aBf",
        "outputId": "446aec73-20ff-45b8-df1f-59fdf5e6d8e5",
        "scrolled": true
      },
      "outputs": [
        {
          "name": "stderr",
          "output_type": "stream",
          "text": [
            "GPU available: True (cuda), used: True\n",
            "TPU available: False, using: 0 TPU cores\n",
            "IPU available: False, using: 0 IPUs\n",
            "HPU available: False, using: 0 HPUs\n",
            "Seed set to 42\n",
            "Missing logger folder: ..\\checkpoints\\ece763-proj_03\\LogisticRegression\\lightning_logs\n",
            "LOCAL_RANK: 0 - CUDA_VISIBLE_DEVICES: [0]\n",
            "\n",
            "  | Name  | Type   | Params\n",
            "---------------------------------\n",
            "0 | model | Linear | 41.0 K\n",
            "---------------------------------\n",
            "41.0 K    Trainable params\n",
            "0         Non-trainable params\n",
            "41.0 K    Total params\n",
            "0.164     Total estimated model params size (MB)\n",
            "D:\\Anaconda3\\envs\\proj2\\lib\\site-packages\\pytorch_lightning\\loops\\fit_loop.py:298: The number of training batches (2) is smaller than the logging interval Trainer(log_every_n_steps=50). Set a lower value for log_every_n_steps if you want to see logs for the training epoch.\n",
            "`Trainer.fit` stopped: `max_epochs=100` reached.\n",
            "LOCAL_RANK: 0 - CUDA_VISIBLE_DEVICES: [0]\n",
            "D:\\Anaconda3\\envs\\proj2\\lib\\site-packages\\pytorch_lightning\\trainer\\connectors\\data_connector.py:492: Your `test_dataloader`'s sampler has shuffling enabled, it is strongly recommended that you turn shuffling off for val/test dataloaders.\n",
            "D:\\Anaconda3\\envs\\proj2\\lib\\site-packages\\pytorch_lightning\\trainer\\connectors\\data_connector.py:441: The 'test_dataloader' does not have many workers which may be a bottleneck. Consider increasing the value of the `num_workers` argument` to `num_workers=31` in the `DataLoader` to improve performance.\n",
            "LOCAL_RANK: 0 - CUDA_VISIBLE_DEVICES: [0]\n",
            "GPU available: True (cuda), used: True\n",
            "TPU available: False, using: 0 TPU cores\n",
            "IPU available: False, using: 0 IPUs\n",
            "HPU available: False, using: 0 HPUs\n",
            "Seed set to 42\n",
            "LOCAL_RANK: 0 - CUDA_VISIBLE_DEVICES: [0]\n",
            "\n",
            "  | Name  | Type   | Params\n",
            "---------------------------------\n",
            "0 | model | Linear | 41.0 K\n",
            "---------------------------------\n",
            "41.0 K    Trainable params\n",
            "0         Non-trainable params\n",
            "41.0 K    Total params\n",
            "0.164     Total estimated model params size (MB)\n",
            "D:\\Anaconda3\\envs\\proj2\\lib\\site-packages\\pytorch_lightning\\loops\\fit_loop.py:298: The number of training batches (4) is smaller than the logging interval Trainer(log_every_n_steps=50). Set a lower value for log_every_n_steps if you want to see logs for the training epoch.\n",
            "`Trainer.fit` stopped: `max_epochs=100` reached.\n",
            "LOCAL_RANK: 0 - CUDA_VISIBLE_DEVICES: [0]\n",
            "LOCAL_RANK: 0 - CUDA_VISIBLE_DEVICES: [0]\n",
            "GPU available: True (cuda), used: True\n",
            "TPU available: False, using: 0 TPU cores\n",
            "IPU available: False, using: 0 IPUs\n",
            "HPU available: False, using: 0 HPUs\n",
            "Seed set to 42\n",
            "LOCAL_RANK: 0 - CUDA_VISIBLE_DEVICES: [0]\n",
            "\n",
            "  | Name  | Type   | Params\n",
            "---------------------------------\n",
            "0 | model | Linear | 41.0 K\n",
            "---------------------------------\n",
            "41.0 K    Trainable params\n",
            "0         Non-trainable params\n",
            "41.0 K    Total params\n",
            "0.164     Total estimated model params size (MB)\n",
            "D:\\Anaconda3\\envs\\proj2\\lib\\site-packages\\pytorch_lightning\\loops\\fit_loop.py:298: The number of training batches (8) is smaller than the logging interval Trainer(log_every_n_steps=50). Set a lower value for log_every_n_steps if you want to see logs for the training epoch.\n",
            "`Trainer.fit` stopped: `max_epochs=100` reached.\n",
            "LOCAL_RANK: 0 - CUDA_VISIBLE_DEVICES: [0]\n",
            "LOCAL_RANK: 0 - CUDA_VISIBLE_DEVICES: [0]\n",
            "GPU available: True (cuda), used: True\n",
            "TPU available: False, using: 0 TPU cores\n",
            "IPU available: False, using: 0 IPUs\n",
            "HPU available: False, using: 0 HPUs\n",
            "Seed set to 42\n",
            "LOCAL_RANK: 0 - CUDA_VISIBLE_DEVICES: [0]\n",
            "\n",
            "  | Name  | Type   | Params\n",
            "---------------------------------\n",
            "0 | model | Linear | 41.0 K\n",
            "---------------------------------\n",
            "41.0 K    Trainable params\n",
            "0         Non-trainable params\n",
            "41.0 K    Total params\n",
            "0.164     Total estimated model params size (MB)\n",
            "D:\\Anaconda3\\envs\\proj2\\lib\\site-packages\\pytorch_lightning\\loops\\fit_loop.py:298: The number of training batches (16) is smaller than the logging interval Trainer(log_every_n_steps=50). Set a lower value for log_every_n_steps if you want to see logs for the training epoch.\n",
            "`Trainer.fit` stopped: `max_epochs=100` reached.\n",
            "LOCAL_RANK: 0 - CUDA_VISIBLE_DEVICES: [0]\n",
            "LOCAL_RANK: 0 - CUDA_VISIBLE_DEVICES: [0]\n",
            "GPU available: True (cuda), used: True\n",
            "TPU available: False, using: 0 TPU cores\n",
            "IPU available: False, using: 0 IPUs\n",
            "HPU available: False, using: 0 HPUs\n",
            "Seed set to 42\n",
            "LOCAL_RANK: 0 - CUDA_VISIBLE_DEVICES: [0]\n",
            "\n",
            "  | Name  | Type   | Params\n",
            "---------------------------------\n",
            "0 | model | Linear | 41.0 K\n",
            "---------------------------------\n",
            "41.0 K    Trainable params\n",
            "0         Non-trainable params\n",
            "41.0 K    Total params\n",
            "0.164     Total estimated model params size (MB)\n",
            "D:\\Anaconda3\\envs\\proj2\\lib\\site-packages\\pytorch_lightning\\loops\\fit_loop.py:298: The number of training batches (32) is smaller than the logging interval Trainer(log_every_n_steps=50). Set a lower value for log_every_n_steps if you want to see logs for the training epoch.\n",
            "`Trainer.fit` stopped: `max_epochs=100` reached.\n",
            "LOCAL_RANK: 0 - CUDA_VISIBLE_DEVICES: [0]\n",
            "LOCAL_RANK: 0 - CUDA_VISIBLE_DEVICES: [0]\n",
            "GPU available: True (cuda), used: True\n",
            "TPU available: False, using: 0 TPU cores\n",
            "IPU available: False, using: 0 IPUs\n",
            "HPU available: False, using: 0 HPUs\n",
            "Seed set to 42\n",
            "LOCAL_RANK: 0 - CUDA_VISIBLE_DEVICES: [0]\n",
            "\n",
            "  | Name  | Type   | Params\n",
            "---------------------------------\n",
            "0 | model | Linear | 41.0 K\n",
            "---------------------------------\n",
            "41.0 K    Trainable params\n",
            "0         Non-trainable params\n",
            "41.0 K    Total params\n",
            "0.164     Total estimated model params size (MB)\n",
            "`Trainer.fit` stopped: `max_epochs=100` reached.\n",
            "LOCAL_RANK: 0 - CUDA_VISIBLE_DEVICES: [0]\n",
            "LOCAL_RANK: 0 - CUDA_VISIBLE_DEVICES: [0]\n"
          ]
        }
      ],
      "source": [
        "# TODO: Run the logistic regression on datasets of 10, 20, 50, 100, 200, and 500 labeled examples [5 POINTS]\n",
        "# raise NotImplementedError\n",
        "results = {}\n",
        "for num_imgs_per_label in [10, 20, 50, 100, 200, 500]:\n",
        "    sub_train_set = get_smaller_dataset(train_feats_simclr, num_imgs_per_label)\n",
        "    _, small_set_results = train_logreg(\n",
        "        batch_size=64,\n",
        "        train_feats_data=sub_train_set,\n",
        "        test_feats_data=test_feats_simclr,\n",
        "        model_suffix=num_imgs_per_label,\n",
        "        feature_dim=train_feats_simclr.tensors[0].shape[1],\n",
        "        num_classes=10,\n",
        "        lr=1e-3,\n",
        "        weight_decay=1e-3,\n",
        "    )\n",
        "    results[num_imgs_per_label] = small_set_results"
      ]
    },
    {
      "cell_type": "markdown",
      "metadata": {
        "id": "U1ZCrUkQ1aBf"
      },
      "source": [
        "Finally, let's plot the results."
      ]
    },
    {
      "cell_type": "code",
      "execution_count": null,
      "metadata": {
        "id": "iKobgp3X1aBf",
        "outputId": "896a18bd-0b27-4ecd-d2be-3a0f8c8ceab6"
      },
      "outputs": [
        {
          "data": {
            "image/png": "[encoded data removed]",
            "text/plain": [
              "<Figure size 600x400 with 1 Axes>"
            ]
          },
          "metadata": {},
          "output_type": "display_data"
        },
        {
          "name": "stdout",
          "output_type": "stream",
          "text": [
            "Test accuracy for  10 images per label: 40.41%\n",
            "Test accuracy for  20 images per label: 46.81%\n",
            "Test accuracy for  50 images per label: 53.46%\n",
            "Test accuracy for 100 images per label: 59.03%\n",
            "Test accuracy for 200 images per label: 63.06%\n",
            "Test accuracy for 500 images per label: 67.05%\n"
          ]
        }
      ],
      "source": [
        "# Plot the results\n",
        "\n",
        "dataset_sizes = sorted([k for k in results])\n",
        "test_scores = [results[k][\"test\"] for k in dataset_sizes]\n",
        "\n",
        "fig = plt.figure(figsize=(6, 4))\n",
        "plt.plot(\n",
        "    dataset_sizes,\n",
        "    test_scores,\n",
        "    \"--\",\n",
        "    color=\"#000\",\n",
        "    marker=\"*\",\n",
        "    markeredgecolor=\"#000\",\n",
        "    markerfacecolor=\"y\",\n",
        "    markersize=16,\n",
        ")\n",
        "plt.xscale(\"log\")\n",
        "plt.xticks(dataset_sizes, labels=dataset_sizes)\n",
        "plt.title(\"STL10 classification over dataset size\", fontsize=14)\n",
        "plt.xlabel(\"Number of images per class\")\n",
        "plt.ylabel(\"Test accuracy\")\n",
        "plt.minorticks_off()\n",
        "plt.show()\n",
        "\n",
        "for k, score in zip(dataset_sizes, test_scores):\n",
        "    print(f\"Test accuracy for {k:3d} images per label: {100*score:4.2f}%\")\n",
        "\n",
        "\n",
        "# We should observe performance similar\n",
        "# Test accuracy for  10 images per label: 40.09%\n",
        "# Test accuracy for  20 images per label: 43.75%\n",
        "# Test accuracy for  50 images per label: 48.66%\n",
        "# Test accuracy for 100 images per label: 52.79%\n",
        "# Test accuracy for 200 images per label: 55.26%\n",
        "# Test accuracy for 500 images per label: 58.28%"
      ]
    },
    {
      "cell_type": "markdown",
      "metadata": {
        "id": "-wMTTqlt1aBf"
      },
      "source": [
        "TODO: [5 POINTS] Discuss the overall performance as well as the trend you see in the plot. Where do you see the biggest jump in performance? Is the performance already saturating?"
      ]
    },
    {
      "cell_type": "markdown",
      "metadata": {
        "id": "MFOnbVwi1aBf"
      },
      "source": [
        "- Test accuracy Increases with number of images per class.\n",
        "<br>\n",
        "- Biggest jump in performance between 50 to 100 image per class.\n",
        "<br>\n",
        "- The performance has not saturate yet therefore there is scope of improvement."
      ]
    },
    {
      "cell_type": "markdown",
      "metadata": {
        "id": "GIcmQrBe1aBf"
      },
      "source": [
        "## Part 3: Baseline\n",
        "\n",
        "As a baseline to our results above, we will train the BaseNetwork with random initialization on the labeled training set of STL10. The results will give us an indication of the advantages that contrastive learning on unlabeled data has compared to using only supervised training. First, let's implement it below."
      ]
    },
    {
      "cell_type": "code",
      "execution_count": null,
      "metadata": {
        "id": "kEt33mzR1aBf"
      },
      "outputs": [],
      "source": [
        "class Baseline(pl.LightningModule):\n",
        "\n",
        "    def __init__(self, num_classes, lr, weight_decay, max_epochs=100):\n",
        "        super().__init__()\n",
        "        self.save_hyperparameters()\n",
        "        # Initialize a base network\n",
        "        self.model = BaseNetwork(num_input_channels=3, c_hid=48, output_dim=num_classes)\n",
        "\n",
        "    def configure_optimizers(self):\n",
        "        optimizer = optim.AdamW(self.parameters(),\n",
        "                                lr=self.hparams.lr,\n",
        "                                weight_decay=self.hparams.weight_decay)\n",
        "        lr_scheduler = optim.lr_scheduler.MultiStepLR(optimizer,\n",
        "                                                      milestones=[int(self.hparams.max_epochs*0.7),\n",
        "                                                                  int(self.hparams.max_epochs*0.9)],\n",
        "                                                      gamma=0.1)\n",
        "        return [optimizer], [lr_scheduler]\n",
        "\n",
        "    def _calculate_loss(self, batch, mode='train'):\n",
        "        # TODO: Calculate classification loss and accuracy [5 points]\n",
        "        # raise NotImplementedError\n",
        "        imgs, labels = batch\n",
        "        preds = self.model(imgs)\n",
        "        loss = F.cross_entropy(preds, labels)\n",
        "        acc = (preds.argmax(dim=-1) == labels).float().mean()\n",
        "\n",
        "        self.log(mode + \"_loss\", loss)\n",
        "        self.log(mode + \"_acc\", acc)\n",
        "        return loss\n",
        "\n",
        "    def training_step(self, batch, batch_idx):\n",
        "        return self._calculate_loss(batch, mode='train')\n",
        "\n",
        "    def validation_step(self, batch, batch_idx):\n",
        "        self._calculate_loss(batch, mode='val')\n",
        "\n",
        "    def test_step(self, batch, batch_idx):\n",
        "        self._calculate_loss(batch, mode='test')"
      ]
    },
    {
      "cell_type": "markdown",
      "metadata": {
        "id": "F_7zMUSA1aBg"
      },
      "source": [
        "It is clear that the ResNet easily overfits on the training data since its parameter count is more than 1000 times larger than the dataset size. To make the comparison to the contrastive learning models fair, we apply data augmentations similar to the ones we used before: horizontal flip, crop-and-resize, grayscale, and gaussian blur. Color distortions as before are not used because the color distribution of an image showed to be an important feature for the classification. Hence, we observed no noticeable performance gains when adding color distortions to the set of augmentations. Similarly, we restrict the resizing operation before cropping to the max. 125% of its original resolution, instead of 1250% as done in SimCLR. This is because, for classification, the model needs to recognize the full object, while in contrastive learning, we only want to check whether two patches belong to the same image/object. Hence, the chosen augmentations below are overall weaker than in the contrastive learning case."
      ]
    },
    {
      "cell_type": "code",
      "execution_count": null,
      "metadata": {
        "colab": {
          "referenced_widgets": [
            "e264697b0f854c349a111790286f6114"
          ]
        },
        "id": "XU7s2xy_1aBg",
        "outputId": "214e5a39-d658-4990-c1ea-02bb2639339c"
      },
      "outputs": [
        {
          "name": "stdout",
          "output_type": "stream",
          "text": [
            "Files already downloaded and verified\n"
          ]
        },
        {
          "data": {
            "application/vnd.jupyter.widget-view+json": {
              "model_id": "e264697b0f854c349a111790286f6114",
              "version_major": 2,
              "version_minor": 0
            },
            "text/plain": [
              "  0%|          | 0/50 [00:00<?, ?it/s]"
            ]
          },
          "metadata": {},
          "output_type": "display_data"
        }
      ],
      "source": [
        "train_transforms = transforms.Compose([transforms.RandomHorizontalFlip(),\n",
        "                                       transforms.RandomResizedCrop(size=32, scale=(0.8, 1.0)),\n",
        "                                       transforms.RandomGrayscale(p=0.2),\n",
        "                                       transforms.GaussianBlur(kernel_size=3, sigma=(0.1, 0.5)),\n",
        "                                       transforms.ToTensor(),\n",
        "                                       transforms.Normalize((0.5,), (0.5,))\n",
        "                                       ])\n",
        "\n",
        "train_img_aug_data = STL10(root=DATASET_PATH, split='train', download=True,\n",
        "                           transform=train_transforms)\n",
        "downscale_dataset(train_img_aug_data)"
      ]
    },
    {
      "cell_type": "markdown",
      "metadata": {
        "id": "zWpn-RyG1aBg"
      },
      "source": [
        "The training function for the BaseNetwork is almost identical to the Logistic Regression setup. Note that we allow the BaseNetwork to perform validation every 2 epochs to also check whether the model overfits strongly in the first iterations or not."
      ]
    },
    {
      "cell_type": "code",
      "execution_count": null,
      "metadata": {
        "id": "9DsLndq01aBg"
      },
      "outputs": [],
      "source": [
        "def train_baseline(batch_size, max_epochs=100, **kwargs):\n",
        "    trainer = pl.Trainer(\n",
        "        default_root_dir=os.path.join(CHECKPOINT_PATH, \"ResNet\"),\n",
        "        accelerator=\"gpu\" if str(device).startswith(\"cuda\") else \"cpu\",\n",
        "        devices=1,\n",
        "        max_epochs=max_epochs,\n",
        "        callbacks=[\n",
        "            ModelCheckpoint(save_weights_only=True, mode=\"max\", monitor=\"val_acc\"),\n",
        "            LearningRateMonitor(\"epoch\"),\n",
        "        ],\n",
        "        enable_progress_bar=True,\n",
        "        check_val_every_n_epoch=2,\n",
        "    )\n",
        "    trainer.logger._default_hp_metric = None\n",
        "\n",
        "    # Data loaders\n",
        "    train_loader = data.DataLoader(train_img_aug_data, batch_size=batch_size, shuffle=True,\n",
        "                                   drop_last=True, pin_memory=True, num_workers=0)\n",
        "    test_loader = data.DataLoader(test_img_data, batch_size=batch_size, shuffle=False,\n",
        "                                  drop_last=False, pin_memory=True, num_workers=0)\n",
        "\n",
        "    # Check whether pretrained model exists. If yes, load it and skip training\n",
        "    pretrained_filename = os.path.join(CHECKPOINT_PATH, \"ResNet.ckpt\")\n",
        "    if os.path.isfile(pretrained_filename):\n",
        "        print(\"Found pretrained model at %s, loading...\" % pretrained_filename)\n",
        "        model = Baseline.load_from_checkpoint(pretrained_filename)\n",
        "    else:\n",
        "        pl.seed_everything(42) # To be reproducable\n",
        "        model = Baseline(**kwargs)\n",
        "        trainer.fit(model, train_loader, test_loader)\n",
        "        model = Baseline.load_from_checkpoint(trainer.checkpoint_callback.best_model_path)\n",
        "\n",
        "    # Test best model on validation set\n",
        "    train_result = trainer.test(model, train_loader, verbose=False)\n",
        "    val_result = trainer.test(model, test_loader, verbose=False)\n",
        "    result = {\"train\": train_result[0][\"test_acc\"], \"test\": val_result[0][\"test_acc\"]}\n",
        "\n",
        "    return model, result"
      ]
    },
    {
      "cell_type": "markdown",
      "metadata": {
        "id": "oAHlswSp1aBg"
      },
      "source": [
        "Finally, let's train the model and check its results. For a first run, use 10 epochs, but to obtain final results, try to train the model on more epochs."
      ]
    },
    {
      "cell_type": "code",
      "execution_count": null,
      "metadata": {
        "colab": {
          "referenced_widgets": [
            "",
            "64741b7dbc6445e8a142a5dce4edabff",
            "f039327d928d4e39a212a88468ae6623",
            "824170c029d94661a585c604515b11ac",
            "bffb523f2091483297a4dd940dcc3a70",
            "43461545381d40a787f8f98c016d6ecc",
            "1ef4f9f7aba348bb953fc6494b7b86f7"
          ]
        },
        "id": "DP7VcSDj1aBg",
        "outputId": "2310d25b-b43e-495c-eafb-9a38bd70fcd6",
        "scrolled": true
      },
      "outputs": [
        {
          "name": "stderr",
          "output_type": "stream",
          "text": [
            "GPU available: True (cuda), used: True\n",
            "TPU available: False, using: 0 TPU cores\n",
            "IPU available: False, using: 0 IPUs\n",
            "HPU available: False, using: 0 HPUs\n",
            "Seed set to 42\n",
            "LOCAL_RANK: 0 - CUDA_VISIBLE_DEVICES: [0]\n",
            "\n",
            "  | Name  | Type        | Params\n",
            "--------------------------------------\n",
            "0 | model | BaseNetwork | 245 K \n",
            "--------------------------------------\n",
            "245 K     Trainable params\n",
            "0         Non-trainable params\n",
            "245 K     Total params\n",
            "0.984     Total estimated model params size (MB)\n"
          ]
        },
        {
          "data": {
            "application/vnd.jupyter.widget-view+json": {
              "model_id": "",
              "version_major": 2,
              "version_minor": 0
            },
            "text/plain": [
              "Sanity Checking: |                                                                               | 0/? [00:00<…"
            ]
          },
          "metadata": {},
          "output_type": "display_data"
        },
        {
          "data": {
            "application/vnd.jupyter.widget-view+json": {
              "model_id": "64741b7dbc6445e8a142a5dce4edabff",
              "version_major": 2,
              "version_minor": 0
            },
            "text/plain": [
              "Training: |                                                                                      | 0/? [00:00<…"
            ]
          },
          "metadata": {},
          "output_type": "display_data"
        },
        {
          "data": {
            "application/vnd.jupyter.widget-view+json": {
              "model_id": "",
              "version_major": 2,
              "version_minor": 0
            },
            "text/plain": [
              "Validation: |                                                                                    | 0/? [00:00<…"
            ]
          },
          "metadata": {},
          "output_type": "display_data"
        },
        {
          "data": {
            "application/vnd.jupyter.widget-view+json": {
              "model_id": "",
              "version_major": 2,
              "version_minor": 0
            },
            "text/plain": [
              "Validation: |                                                                                    | 0/? [00:00<…"
            ]
          },
          "metadata": {},
          "output_type": "display_data"
        },
        {
          "data": {
            "application/vnd.jupyter.widget-view+json": {
              "model_id": "",
              "version_major": 2,
              "version_minor": 0
            },
            "text/plain": [
              "Validation: |                                                                                    | 0/? [00:00<…"
            ]
          },
          "metadata": {},
          "output_type": "display_data"
        },
        {
          "data": {
            "application/vnd.jupyter.widget-view+json": {
              "model_id": "",
              "version_major": 2,
              "version_minor": 0
            },
            "text/plain": [
              "Validation: |                                                                                    | 0/? [00:00<…"
            ]
          },
          "metadata": {},
          "output_type": "display_data"
        },
        {
          "data": {
            "application/vnd.jupyter.widget-view+json": {
              "model_id": "",
              "version_major": 2,
              "version_minor": 0
            },
            "text/plain": [
              "Validation: |                                                                                    | 0/? [00:00<…"
            ]
          },
          "metadata": {},
          "output_type": "display_data"
        },
        {
          "data": {
            "application/vnd.jupyter.widget-view+json": {
              "model_id": "",
              "version_major": 2,
              "version_minor": 0
            },
            "text/plain": [
              "Validation: |                                                                                    | 0/? [00:00<…"
            ]
          },
          "metadata": {},
          "output_type": "display_data"
        },
        {
          "data": {
            "application/vnd.jupyter.widget-view+json": {
              "model_id": "",
              "version_major": 2,
              "version_minor": 0
            },
            "text/plain": [
              "Validation: |                                                                                    | 0/? [00:00<…"
            ]
          },
          "metadata": {},
          "output_type": "display_data"
        },
        {
          "data": {
            "application/vnd.jupyter.widget-view+json": {
              "model_id": "",
              "version_major": 2,
              "version_minor": 0
            },
            "text/plain": [
              "Validation: |                                                                                    | 0/? [00:00<…"
            ]
          },
          "metadata": {},
          "output_type": "display_data"
        },
        {
          "data": {
            "application/vnd.jupyter.widget-view+json": {
              "model_id": "",
              "version_major": 2,
              "version_minor": 0
            },
            "text/plain": [
              "Validation: |                                                                                    | 0/? [00:00<…"
            ]
          },
          "metadata": {},
          "output_type": "display_data"
        },
        {
          "data": {
            "application/vnd.jupyter.widget-view+json": {
              "model_id": "",
              "version_major": 2,
              "version_minor": 0
            },
            "text/plain": [
              "Validation: |                                                                                    | 0/? [00:00<…"
            ]
          },
          "metadata": {},
          "output_type": "display_data"
        },
        {
          "data": {
            "application/vnd.jupyter.widget-view+json": {
              "model_id": "",
              "version_major": 2,
              "version_minor": 0
            },
            "text/plain": [
              "Validation: |                                                                                    | 0/? [00:00<…"
            ]
          },
          "metadata": {},
          "output_type": "display_data"
        },
        {
          "data": {
            "application/vnd.jupyter.widget-view+json": {
              "model_id": "",
              "version_major": 2,
              "version_minor": 0
            },
            "text/plain": [
              "Validation: |                                                                                    | 0/? [00:00<…"
            ]
          },
          "metadata": {},
          "output_type": "display_data"
        },
        {
          "data": {
            "application/vnd.jupyter.widget-view+json": {
              "model_id": "",
              "version_major": 2,
              "version_minor": 0
            },
            "text/plain": [
              "Validation: |                                                                                    | 0/? [00:00<…"
            ]
          },
          "metadata": {},
          "output_type": "display_data"
        },
        {
          "data": {
            "application/vnd.jupyter.widget-view+json": {
              "model_id": "",
              "version_major": 2,
              "version_minor": 0
            },
            "text/plain": [
              "Validation: |                                                                                    | 0/? [00:00<…"
            ]
          },
          "metadata": {},
          "output_type": "display_data"
        },
        {
          "data": {
            "application/vnd.jupyter.widget-view+json": {
              "model_id": "",
              "version_major": 2,
              "version_minor": 0
            },
            "text/plain": [
              "Validation: |                                                                                    | 0/? [00:00<…"
            ]
          },
          "metadata": {},
          "output_type": "display_data"
        },
        {
          "data": {
            "application/vnd.jupyter.widget-view+json": {
              "model_id": "",
              "version_major": 2,
              "version_minor": 0
            },
            "text/plain": [
              "Validation: |                                                                                    | 0/? [00:00<…"
            ]
          },
          "metadata": {},
          "output_type": "display_data"
        },
        {
          "data": {
            "application/vnd.jupyter.widget-view+json": {
              "model_id": "",
              "version_major": 2,
              "version_minor": 0
            },
            "text/plain": [
              "Validation: |                                                                                    | 0/? [00:00<…"
            ]
          },
          "metadata": {},
          "output_type": "display_data"
        },
        {
          "data": {
            "application/vnd.jupyter.widget-view+json": {
              "model_id": "",
              "version_major": 2,
              "version_minor": 0
            },
            "text/plain": [
              "Validation: |                                                                                    | 0/? [00:00<…"
            ]
          },
          "metadata": {},
          "output_type": "display_data"
        },
        {
          "data": {
            "application/vnd.jupyter.widget-view+json": {
              "model_id": "",
              "version_major": 2,
              "version_minor": 0
            },
            "text/plain": [
              "Validation: |                                                                                    | 0/? [00:00<…"
            ]
          },
          "metadata": {},
          "output_type": "display_data"
        },
        {
          "data": {
            "application/vnd.jupyter.widget-view+json": {
              "model_id": "",
              "version_major": 2,
              "version_minor": 0
            },
            "text/plain": [
              "Validation: |                                                                                    | 0/? [00:00<…"
            ]
          },
          "metadata": {},
          "output_type": "display_data"
        },
        {
          "data": {
            "application/vnd.jupyter.widget-view+json": {
              "model_id": "",
              "version_major": 2,
              "version_minor": 0
            },
            "text/plain": [
              "Validation: |                                                                                    | 0/? [00:00<…"
            ]
          },
          "metadata": {},
          "output_type": "display_data"
        },
        {
          "data": {
            "application/vnd.jupyter.widget-view+json": {
              "model_id": "",
              "version_major": 2,
              "version_minor": 0
            },
            "text/plain": [
              "Validation: |                                                                                    | 0/? [00:00<…"
            ]
          },
          "metadata": {},
          "output_type": "display_data"
        },
        {
          "data": {
            "application/vnd.jupyter.widget-view+json": {
              "model_id": "",
              "version_major": 2,
              "version_minor": 0
            },
            "text/plain": [
              "Validation: |                                                                                    | 0/? [00:00<…"
            ]
          },
          "metadata": {},
          "output_type": "display_data"
        },
        {
          "data": {
            "application/vnd.jupyter.widget-view+json": {
              "model_id": "",
              "version_major": 2,
              "version_minor": 0
            },
            "text/plain": [
              "Validation: |                                                                                    | 0/? [00:00<…"
            ]
          },
          "metadata": {},
          "output_type": "display_data"
        },
        {
          "data": {
            "application/vnd.jupyter.widget-view+json": {
              "model_id": "",
              "version_major": 2,
              "version_minor": 0
            },
            "text/plain": [
              "Validation: |                                                                                    | 0/? [00:00<…"
            ]
          },
          "metadata": {},
          "output_type": "display_data"
        },
        {
          "data": {
            "application/vnd.jupyter.widget-view+json": {
              "model_id": "",
              "version_major": 2,
              "version_minor": 0
            },
            "text/plain": [
              "Validation: |                                                                                    | 0/? [00:00<…"
            ]
          },
          "metadata": {},
          "output_type": "display_data"
        },
        {
          "data": {
            "application/vnd.jupyter.widget-view+json": {
              "model_id": "",
              "version_major": 2,
              "version_minor": 0
            },
            "text/plain": [
              "Validation: |                                                                                    | 0/? [00:00<…"
            ]
          },
          "metadata": {},
          "output_type": "display_data"
        },
        {
          "data": {
            "application/vnd.jupyter.widget-view+json": {
              "model_id": "",
              "version_major": 2,
              "version_minor": 0
            },
            "text/plain": [
              "Validation: |                                                                                    | 0/? [00:00<…"
            ]
          },
          "metadata": {},
          "output_type": "display_data"
        },
        {
          "data": {
            "application/vnd.jupyter.widget-view+json": {
              "model_id": "",
              "version_major": 2,
              "version_minor": 0
            },
            "text/plain": [
              "Validation: |                                                                                    | 0/? [00:00<…"
            ]
          },
          "metadata": {},
          "output_type": "display_data"
        },
        {
          "data": {
            "application/vnd.jupyter.widget-view+json": {
              "model_id": "",
              "version_major": 2,
              "version_minor": 0
            },
            "text/plain": [
              "Validation: |                                                                                    | 0/? [00:00<…"
            ]
          },
          "metadata": {},
          "output_type": "display_data"
        },
        {
          "data": {
            "application/vnd.jupyter.widget-view+json": {
              "model_id": "",
              "version_major": 2,
              "version_minor": 0
            },
            "text/plain": [
              "Validation: |                                                                                    | 0/? [00:00<…"
            ]
          },
          "metadata": {},
          "output_type": "display_data"
        },
        {
          "data": {
            "application/vnd.jupyter.widget-view+json": {
              "model_id": "",
              "version_major": 2,
              "version_minor": 0
            },
            "text/plain": [
              "Validation: |                                                                                    | 0/? [00:00<…"
            ]
          },
          "metadata": {},
          "output_type": "display_data"
        },
        {
          "data": {
            "application/vnd.jupyter.widget-view+json": {
              "model_id": "",
              "version_major": 2,
              "version_minor": 0
            },
            "text/plain": [
              "Validation: |                                                                                    | 0/? [00:00<…"
            ]
          },
          "metadata": {},
          "output_type": "display_data"
        },
        {
          "data": {
            "application/vnd.jupyter.widget-view+json": {
              "model_id": "",
              "version_major": 2,
              "version_minor": 0
            },
            "text/plain": [
              "Validation: |                                                                                    | 0/? [00:00<…"
            ]
          },
          "metadata": {},
          "output_type": "display_data"
        },
        {
          "data": {
            "application/vnd.jupyter.widget-view+json": {
              "model_id": "",
              "version_major": 2,
              "version_minor": 0
            },
            "text/plain": [
              "Validation: |                                                                                    | 0/? [00:00<…"
            ]
          },
          "metadata": {},
          "output_type": "display_data"
        },
        {
          "data": {
            "application/vnd.jupyter.widget-view+json": {
              "model_id": "",
              "version_major": 2,
              "version_minor": 0
            },
            "text/plain": [
              "Validation: |                                                                                    | 0/? [00:00<…"
            ]
          },
          "metadata": {},
          "output_type": "display_data"
        },
        {
          "data": {
            "application/vnd.jupyter.widget-view+json": {
              "model_id": "",
              "version_major": 2,
              "version_minor": 0
            },
            "text/plain": [
              "Validation: |                                                                                    | 0/? [00:00<…"
            ]
          },
          "metadata": {},
          "output_type": "display_data"
        },
        {
          "data": {
            "application/vnd.jupyter.widget-view+json": {
              "model_id": "",
              "version_major": 2,
              "version_minor": 0
            },
            "text/plain": [
              "Validation: |                                                                                    | 0/? [00:00<…"
            ]
          },
          "metadata": {},
          "output_type": "display_data"
        },
        {
          "data": {
            "application/vnd.jupyter.widget-view+json": {
              "model_id": "",
              "version_major": 2,
              "version_minor": 0
            },
            "text/plain": [
              "Validation: |                                                                                    | 0/? [00:00<…"
            ]
          },
          "metadata": {},
          "output_type": "display_data"
        },
        {
          "data": {
            "application/vnd.jupyter.widget-view+json": {
              "model_id": "",
              "version_major": 2,
              "version_minor": 0
            },
            "text/plain": [
              "Validation: |                                                                                    | 0/? [00:00<…"
            ]
          },
          "metadata": {},
          "output_type": "display_data"
        },
        {
          "data": {
            "application/vnd.jupyter.widget-view+json": {
              "model_id": "",
              "version_major": 2,
              "version_minor": 0
            },
            "text/plain": [
              "Validation: |                                                                                    | 0/? [00:00<…"
            ]
          },
          "metadata": {},
          "output_type": "display_data"
        },
        {
          "data": {
            "application/vnd.jupyter.widget-view+json": {
              "model_id": "",
              "version_major": 2,
              "version_minor": 0
            },
            "text/plain": [
              "Validation: |                                                                                    | 0/? [00:00<…"
            ]
          },
          "metadata": {},
          "output_type": "display_data"
        },
        {
          "data": {
            "application/vnd.jupyter.widget-view+json": {
              "model_id": "",
              "version_major": 2,
              "version_minor": 0
            },
            "text/plain": [
              "Validation: |                                                                                    | 0/? [00:00<…"
            ]
          },
          "metadata": {},
          "output_type": "display_data"
        },
        {
          "data": {
            "application/vnd.jupyter.widget-view+json": {
              "model_id": "",
              "version_major": 2,
              "version_minor": 0
            },
            "text/plain": [
              "Validation: |                                                                                    | 0/? [00:00<…"
            ]
          },
          "metadata": {},
          "output_type": "display_data"
        },
        {
          "data": {
            "application/vnd.jupyter.widget-view+json": {
              "model_id": "",
              "version_major": 2,
              "version_minor": 0
            },
            "text/plain": [
              "Validation: |                                                                                    | 0/? [00:00<…"
            ]
          },
          "metadata": {},
          "output_type": "display_data"
        },
        {
          "data": {
            "application/vnd.jupyter.widget-view+json": {
              "model_id": "",
              "version_major": 2,
              "version_minor": 0
            },
            "text/plain": [
              "Validation: |                                                                                    | 0/? [00:00<…"
            ]
          },
          "metadata": {},
          "output_type": "display_data"
        },
        {
          "data": {
            "application/vnd.jupyter.widget-view+json": {
              "model_id": "",
              "version_major": 2,
              "version_minor": 0
            },
            "text/plain": [
              "Validation: |                                                                                    | 0/? [00:00<…"
            ]
          },
          "metadata": {},
          "output_type": "display_data"
        },
        {
          "data": {
            "application/vnd.jupyter.widget-view+json": {
              "model_id": "f039327d928d4e39a212a88468ae6623",
              "version_major": 2,
              "version_minor": 0
            },
            "text/plain": [
              "Validation: |                                                                                    | 0/? [00:00<…"
            ]
          },
          "metadata": {},
          "output_type": "display_data"
        },
        {
          "data": {
            "application/vnd.jupyter.widget-view+json": {
              "model_id": "824170c029d94661a585c604515b11ac",
              "version_major": 2,
              "version_minor": 0
            },
            "text/plain": [
              "Validation: |                                                                                    | 0/? [00:00<…"
            ]
          },
          "metadata": {},
          "output_type": "display_data"
        },
        {
          "data": {
            "application/vnd.jupyter.widget-view+json": {
              "model_id": "bffb523f2091483297a4dd940dcc3a70",
              "version_major": 2,
              "version_minor": 0
            },
            "text/plain": [
              "Validation: |                                                                                    | 0/? [00:00<…"
            ]
          },
          "metadata": {},
          "output_type": "display_data"
        },
        {
          "name": "stderr",
          "output_type": "stream",
          "text": [
            "`Trainer.fit` stopped: `max_epochs=100` reached.\n",
            "LOCAL_RANK: 0 - CUDA_VISIBLE_DEVICES: [0]\n"
          ]
        },
        {
          "data": {
            "application/vnd.jupyter.widget-view+json": {
              "model_id": "43461545381d40a787f8f98c016d6ecc",
              "version_major": 2,
              "version_minor": 0
            },
            "text/plain": [
              "Testing: |                                                                                       | 0/? [00:00<…"
            ]
          },
          "metadata": {},
          "output_type": "display_data"
        },
        {
          "name": "stderr",
          "output_type": "stream",
          "text": [
            "LOCAL_RANK: 0 - CUDA_VISIBLE_DEVICES: [0]\n"
          ]
        },
        {
          "data": {
            "application/vnd.jupyter.widget-view+json": {
              "model_id": "1ef4f9f7aba348bb953fc6494b7b86f7",
              "version_major": 2,
              "version_minor": 0
            },
            "text/plain": [
              "Testing: |                                                                                       | 0/? [00:00<…"
            ]
          },
          "metadata": {},
          "output_type": "display_data"
        }
      ],
      "source": [
        "baseline_model, baseline_result = train_baseline(batch_size=64,\n",
        "                                               num_classes=10,\n",
        "                                               lr=1e-3,\n",
        "                                               weight_decay=2e-4,\n",
        "                                               max_epochs=100)"
      ]
    },
    {
      "cell_type": "code",
      "execution_count": null,
      "metadata": {
        "id": "FjyCh9fo1aBg",
        "outputId": "0c105372-258e-43e7-abde-0ddd8b2a45ac"
      },
      "outputs": [
        {
          "name": "stdout",
          "output_type": "stream",
          "text": [
            "Accuracy on training set: 97.52%\n",
            "Accuracy on test set: 67.68%\n"
          ]
        }
      ],
      "source": [
        "print(f\"Accuracy on training set: {baseline_result['train']:.2%}\")\n",
        "print(f\"Accuracy on test set: {baseline_result['test']:.2%}\")\n",
        "\n",
        "# We should observe performance similar to\n",
        "# Accuracy on training set: 67.03%\n",
        "# Accuracy on test set: 60.29%"
      ]
    },
    {
      "cell_type": "markdown",
      "metadata": {
        "id": "9Y2bBP9g1aBg"
      },
      "source": [
        "TODO: [5 POINTS] Discuss the results you have obtained from this baseline and compare it to the logistic regression model in Part 2. What do you see? What do the results imply?"
      ]
    },
    {
      "cell_type": "markdown",
      "metadata": {
        "id": "reacO6FZ1aBg"
      },
      "source": [
        "The ResNet trained from scratch achieves 67.68% on the test set.\n",
        "- This is almost similar to what SimCLR achieves with 1/10 of the data.\n",
        "- This shows that self-supervised, contrastive learning provides considerable performance gains by leveraging large amounts of unlabeled data when little labeled data is available."
      ]
    },
    {
      "cell_type": "markdown",
      "metadata": {
        "id": "roRew5y61aBg"
      },
      "source": [
        "## Summary of SimCLR\n",
        "\n",
        "We have discussed self-supervised contrastive learning and implemented SimCLR as an example method. We have applied it to the STL10 dataset and showed that it can learn generalizable representations that we can use to train simple classification models. Besides the discussed hyperparameters, the size of the model seems to be important in contrastive learning as well. If a lot of unlabeled data is available, larger models can achieve much stronger results and come close to their supervised baselines. Further, there are also approaches for combining contrastive and supervised learning, leading to performance gains beyond supervision (see [Khosla et al.](https://arxiv.org/abs/2004.11362)).\n"
      ]
    },
    {
      "cell_type": "markdown",
      "metadata": {
        "id": "qd3Cicx01aBg"
      },
      "source": [
        "# Explore Another SSL Method\n",
        "\n",
        "Moreover, contrastive learning is not the only approach to self-supervised learning that has come up in the last two years and showed great results. Other methods include distillation-based methods like [BYOL](https://arxiv.org/abs/2006.07733), [SimSiam](https://arxiv.org/abs/2011.10566) and redundancy reduction techniques like [Barlow Twins](https://arxiv.org/abs/2103.03230). There is a lot more to explore in the self-supervised domain as briefly discssed in our lecture.\n",
        "\n",
        "\n",
        "Implement `BYOL` or `SimSiam` or `BarlowTwins` to replace the SimCLR in Part 1 above, and re-do the experiments in Part 1 and Part 2.  With your new SSL method, compare with SimCLR and the baseline in Part 3."
      ]
    },
    {
      "cell_type": "code",
      "execution_count": null,
      "metadata": {
        "id": "2j2TT_Ss1rkD"
      },
      "outputs": [],
      "source": [
        "## trying BarlowTwins as another SSL method--\n",
        "# The Barlowe twins method is a semi supervised learning method through representation redundancy reduction by forcing the correlation matrix of features of similar objects \n",
        "# to be an identity matrix"
      ]
    },
    {
      "cell_type": "code",
      "execution_count": null,
      "metadata": {
        "colab": {
          "base_uri": "https://localhost:8080/"
        },
        "id": "7uW6cLg8iy-N",
        "outputId": "3bd3ff67-de4c-456d-a8b6-d1456c8861ed"
      },
      "outputs": [
        {
          "name": "stdout",
          "output_type": "stream",
          "text": [
            "Requirement already satisfied: setuptools==59.5.0 in /usr/local/lib/python3.10/dist-packages (59.5.0)\n",
            "Requirement already satisfied: matplotlib in /usr/local/lib/python3.10/dist-packages (3.7.1)\n",
            "Requirement already satisfied: torch>=1.8 in /usr/local/lib/python3.10/dist-packages (2.2.1+cu121)\n",
            "Requirement already satisfied: torchvision in /usr/local/lib/python3.10/dist-packages (0.17.1+cu121)\n",
            "Requirement already satisfied: torchmetrics>=0.7 in /usr/local/lib/python3.10/dist-packages (1.3.2)\n",
            "Requirement already satisfied: pytorch-lightning>=1.4 in /usr/local/lib/python3.10/dist-packages (2.2.3)\n",
            "Requirement already satisfied: contourpy>=1.0.1 in /usr/local/lib/python3.10/dist-packages (from matplotlib) (1.2.1)\n",
            "Requirement already satisfied: cycler>=0.10 in /usr/local/lib/python3.10/dist-packages (from matplotlib) (0.12.1)\n",
            "Requirement already satisfied: fonttools>=4.22.0 in /usr/local/lib/python3.10/dist-packages (from matplotlib) (4.51.0)\n",
            "Requirement already satisfied: kiwisolver>=1.0.1 in /usr/local/lib/python3.10/dist-packages (from matplotlib) (1.4.5)\n",
            "Requirement already satisfied: numpy>=1.20 in /usr/local/lib/python3.10/dist-packages (from matplotlib) (1.25.2)\n",
            "Requirement already satisfied: packaging>=20.0 in /usr/local/lib/python3.10/dist-packages (from matplotlib) (24.0)\n",
            "Requirement already satisfied: pillow>=6.2.0 in /usr/local/lib/python3.10/dist-packages (from matplotlib) (9.4.0)\n",
            "Requirement already satisfied: pyparsing>=2.3.1 in /usr/local/lib/python3.10/dist-packages (from matplotlib) (3.1.2)\n",
            "Requirement already satisfied: python-dateutil>=2.7 in /usr/local/lib/python3.10/dist-packages (from matplotlib) (2.8.2)\n",
            "Requirement already satisfied: filelock in /usr/local/lib/python3.10/dist-packages (from torch>=1.8) (3.13.4)\n",
            "Requirement already satisfied: typing-extensions>=4.8.0 in /usr/local/lib/python3.10/dist-packages (from torch>=1.8) (4.11.0)\n",
            "Requirement already satisfied: sympy in /usr/local/lib/python3.10/dist-packages (from torch>=1.8) (1.12)\n",
            "Requirement already satisfied: networkx in /usr/local/lib/python3.10/dist-packages (from torch>=1.8) (3.3)\n",
            "Requirement already satisfied: jinja2 in /usr/local/lib/python3.10/dist-packages (from torch>=1.8) (3.1.3)\n",
            "Requirement already satisfied: fsspec in /usr/local/lib/python3.10/dist-packages (from torch>=1.8) (2023.6.0)\n",
            "Requirement already satisfied: nvidia-cuda-nvrtc-cu12==12.1.105 in /usr/local/lib/python3.10/dist-packages (from torch>=1.8) (12.1.105)\n",
            "Requirement already satisfied: nvidia-cuda-runtime-cu12==12.1.105 in /usr/local/lib/python3.10/dist-packages (from torch>=1.8) (12.1.105)\n",
            "Requirement already satisfied: nvidia-cuda-cupti-cu12==12.1.105 in /usr/local/lib/python3.10/dist-packages (from torch>=1.8) (12.1.105)\n",
            "Requirement already satisfied: nvidia-cudnn-cu12==8.9.2.26 in /usr/local/lib/python3.10/dist-packages (from torch>=1.8) (8.9.2.26)\n",
            "Requirement already satisfied: nvidia-cublas-cu12==12.1.3.1 in /usr/local/lib/python3.10/dist-packages (from torch>=1.8) (12.1.3.1)\n",
            "Requirement already satisfied: nvidia-cufft-cu12==11.0.2.54 in /usr/local/lib/python3.10/dist-packages (from torch>=1.8) (11.0.2.54)\n",
            "Requirement already satisfied: nvidia-curand-cu12==10.3.2.106 in /usr/local/lib/python3.10/dist-packages (from torch>=1.8) (10.3.2.106)\n",
            "Requirement already satisfied: nvidia-cusolver-cu12==11.4.5.107 in /usr/local/lib/python3.10/dist-packages (from torch>=1.8) (11.4.5.107)\n",
            "Requirement already satisfied: nvidia-cusparse-cu12==12.1.0.106 in /usr/local/lib/python3.10/dist-packages (from torch>=1.8) (12.1.0.106)\n",
            "Requirement already satisfied: nvidia-nccl-cu12==2.19.3 in /usr/local/lib/python3.10/dist-packages (from torch>=1.8) (2.19.3)\n",
            "Requirement already satisfied: nvidia-nvtx-cu12==12.1.105 in /usr/local/lib/python3.10/dist-packages (from torch>=1.8) (12.1.105)\n",
            "Requirement already satisfied: triton==2.2.0 in /usr/local/lib/python3.10/dist-packages (from torch>=1.8) (2.2.0)\n",
            "Requirement already satisfied: nvidia-nvjitlink-cu12 in /usr/local/lib/python3.10/dist-packages (from nvidia-cusolver-cu12==11.4.5.107->torch>=1.8) (12.4.127)\n",
            "Requirement already satisfied: lightning-utilities>=0.8.0 in /usr/local/lib/python3.10/dist-packages (from torchmetrics>=0.7) (0.11.2)\n",
            "Requirement already satisfied: tqdm>=4.57.0 in /usr/local/lib/python3.10/dist-packages (from pytorch-lightning>=1.4) (4.66.2)\n",
            "Requirement already satisfied: PyYAML>=5.4 in /usr/local/lib/python3.10/dist-packages (from pytorch-lightning>=1.4) (6.0.1)\n",
            "Requirement already satisfied: requests in /usr/local/lib/python3.10/dist-packages (from fsspec->torch>=1.8) (2.31.0)\n",
            "Requirement already satisfied: aiohttp!=4.0.0a0,!=4.0.0a1 in /usr/local/lib/python3.10/dist-packages (from fsspec->torch>=1.8) (3.9.5)\n",
            "Requirement already satisfied: six>=1.5 in /usr/local/lib/python3.10/dist-packages (from python-dateutil>=2.7->matplotlib) (1.16.0)\n",
            "Requirement already satisfied: MarkupSafe>=2.0 in /usr/local/lib/python3.10/dist-packages (from jinja2->torch>=1.8) (2.1.5)\n",
            "Requirement already satisfied: mpmath>=0.19 in /usr/local/lib/python3.10/dist-packages (from sympy->torch>=1.8) (1.3.0)\n",
            "Requirement already satisfied: aiosignal>=1.1.2 in /usr/local/lib/python3.10/dist-packages (from aiohttp!=4.0.0a0,!=4.0.0a1->fsspec->torch>=1.8) (1.3.1)\n",
            "Requirement already satisfied: attrs>=17.3.0 in /usr/local/lib/python3.10/dist-packages (from aiohttp!=4.0.0a0,!=4.0.0a1->fsspec->torch>=1.8) (23.2.0)\n",
            "Requirement already satisfied: frozenlist>=1.1.1 in /usr/local/lib/python3.10/dist-packages (from aiohttp!=4.0.0a0,!=4.0.0a1->fsspec->torch>=1.8) (1.4.1)\n",
            "Requirement already satisfied: multidict<7.0,>=4.5 in /usr/local/lib/python3.10/dist-packages (from aiohttp!=4.0.0a0,!=4.0.0a1->fsspec->torch>=1.8) (6.0.5)\n",
            "Requirement already satisfied: yarl<2.0,>=1.0 in /usr/local/lib/python3.10/dist-packages (from aiohttp!=4.0.0a0,!=4.0.0a1->fsspec->torch>=1.8) (1.9.4)\n",
            "Requirement already satisfied: async-timeout<5.0,>=4.0 in /usr/local/lib/python3.10/dist-packages (from aiohttp!=4.0.0a0,!=4.0.0a1->fsspec->torch>=1.8) (4.0.3)\n",
            "Requirement already satisfied: charset-normalizer<4,>=2 in /usr/local/lib/python3.10/dist-packages (from requests->fsspec->torch>=1.8) (3.3.2)\n",
            "Requirement already satisfied: idna<4,>=2.5 in /usr/local/lib/python3.10/dist-packages (from requests->fsspec->torch>=1.8) (3.7)\n",
            "Requirement already satisfied: urllib3<3,>=1.21.1 in /usr/local/lib/python3.10/dist-packages (from requests->fsspec->torch>=1.8) (2.0.7)\n",
            "Requirement already satisfied: certifi>=2017.4.17 in /usr/local/lib/python3.10/dist-packages (from requests->fsspec->torch>=1.8) (2024.2.2)\n"
          ]
        }
      ],
      "source": [
        "! pip install \"setuptools==59.5.0\" \"matplotlib\"  \"torch>=1.8\" \"torchvision\" \"torchmetrics>=0.7\" \"pytorch-lightning>=1.4\""
      ]
    },
    {
      "cell_type": "code",
      "execution_count": null,
      "metadata": {
        "id": "fzymVPIaiy72"
      },
      "outputs": [],
      "source": [
        "from functools import partial\n",
        "from typing import Sequence, Tuple, Union\n",
        "\n",
        "import matplotlib.pyplot as plt\n",
        "import numpy as np\n",
        "import pytorch_lightning as pl\n",
        "import torch\n",
        "import torch.nn as nn\n",
        "import torch.nn.functional as F\n",
        "import torchvision.transforms as transforms\n",
        "import torchvision.transforms.functional as VisionF\n",
        "from pytorch_lightning import Callback, LightningModule, Trainer\n",
        "from pytorch_lightning.callbacks import ModelCheckpoint\n",
        "from torch import Tensor\n",
        "from torch.utils.data import DataLoader\n",
        "from torchmetrics.functional import accuracy\n",
        "from torchvision.datasets import CIFAR10, STL10\n",
        "from torchvision.models.resnet import resnet18\n",
        "from torchvision.utils import make_grid"
      ]
    },
    {
      "cell_type": "code",
      "execution_count": null,
      "metadata": {
        "id": "83x3gfL0mXgJ"
      },
      "outputs": [],
      "source": [
        "batch_size = 32\n",
        "num_workers = 0  # to run notebook on CPU\n",
        "max_epochs = 10\n",
        "z_dim = 128"
      ]
    },
    {
      "cell_type": "code",
      "execution_count": null,
      "metadata": {
        "id": "knSt1ur9iy5x"
      },
      "outputs": [],
      "source": [
        "class BarlowTwinsTransform:\n",
        "    def __init__(self, train=True, input_height=224, gaussian_blur=True, jitter_strength=1.0, normalize=None):\n",
        "        self.input_height = input_height\n",
        "        self.gaussian_blur = gaussian_blur\n",
        "        self.jitter_strength = jitter_strength\n",
        "        self.normalize = normalize\n",
        "        self.train = train\n",
        "\n",
        "        color_jitter = transforms.ColorJitter(\n",
        "            0.8 * self.jitter_strength,\n",
        "            0.8 * self.jitter_strength,\n",
        "            0.8 * self.jitter_strength,\n",
        "            0.2 * self.jitter_strength,\n",
        "        )\n",
        "\n",
        "        color_transform = [transforms.RandomApply([color_jitter], p=0.8), transforms.RandomGrayscale(p=0.2)]\n",
        "\n",
        "        if self.gaussian_blur:\n",
        "            kernel_size = int(0.1 * self.input_height)\n",
        "            if kernel_size % 2 == 0:\n",
        "                kernel_size += 1\n",
        "\n",
        "            color_transform.append(transforms.RandomApply([transforms.GaussianBlur(kernel_size=kernel_size)], p=0.5))\n",
        "\n",
        "        self.color_transform = transforms.Compose(color_transform)\n",
        "\n",
        "        if normalize is None:\n",
        "            self.final_transform = transforms.ToTensor()\n",
        "        else:\n",
        "            self.final_transform = transforms.Compose([transforms.ToTensor(), normalize])\n",
        "\n",
        "        self.transform = transforms.Compose(\n",
        "            [\n",
        "                transforms.RandomResizedCrop(self.input_height),\n",
        "                transforms.RandomHorizontalFlip(p=0.5),\n",
        "                self.color_transform,\n",
        "                self.final_transform,\n",
        "            ]\n",
        "        )\n",
        "\n",
        "        self.finetune_transform = None\n",
        "        if self.train:\n",
        "            self.finetune_transform = transforms.Compose(\n",
        "                [\n",
        "                    transforms.RandomCrop(32, padding=4, padding_mode=\"reflect\"),\n",
        "                    transforms.RandomHorizontalFlip(),\n",
        "                    transforms.ToTensor(),\n",
        "                ]\n",
        "            )\n",
        "        else:\n",
        "            self.finetune_transform = transforms.ToTensor()\n",
        "\n",
        "    def __call__(self, sample):\n",
        "        return self.transform(sample), self.transform(sample), self.finetune_transform(sample)"
      ]
    },
    {
      "cell_type": "code",
      "execution_count": null,
      "metadata": {
        "colab": {
          "base_uri": "https://localhost:8080/"
        },
        "id": "dlGqdSKiiy3K",
        "outputId": "260a6e8d-a95f-484b-c5bd-912ee59dc24d"
      },
      "outputs": [
        {
          "name": "stdout",
          "output_type": "stream",
          "text": [
            "Downloading https://www.cs.toronto.edu/~kriz/cifar-10-python.tar.gz to ./cifar-10-python.tar.gz\n"
          ]
        },
        {
          "name": "stderr",
          "output_type": "stream",
          "text": [
            "\n",
            "  0%|          | 0/170498071 [00:00<?, ?it/s]\u001b[A\n",
            "  0%|          | 458752/170498071 [00:00<00:37, 4495918.81it/s]\u001b[A\n",
            "  4%|▍         | 7503872/170498071 [00:00<00:03, 42951213.41it/s]\u001b[A\n",
            " 11%|█         | 19005440/170498071 [00:00<00:02, 75643062.30it/s]\u001b[A\n",
            " 18%|█▊        | 30081024/170498071 [00:00<00:01, 89424173.67it/s]\u001b[A\n",
            " 24%|██▍       | 41320448/170498071 [00:00<00:01, 97632787.79it/s]\u001b[A\n",
            " 31%|███       | 52592640/170498071 [00:00<00:01, 102673136.34it/s]\u001b[A\n",
            " 37%|███▋      | 63700992/170498071 [00:00<00:01, 105354882.72it/s]\u001b[A\n",
            " 44%|████▍     | 74645504/170498071 [00:00<00:00, 106609007.07it/s]\u001b[A\n",
            " 50%|█████     | 85524480/170498071 [00:00<00:00, 107232732.70it/s]\u001b[A\n",
            " 56%|█████▋    | 96272384/170498071 [00:01<00:00, 105268951.94it/s]\u001b[A\n",
            " 63%|██████▎   | 107118592/170498071 [00:01<00:00, 106160886.15it/s]\u001b[A\n",
            " 70%|██████▉   | 118521856/170498071 [00:01<00:00, 107845650.83it/s]\u001b[A\n",
            " 76%|███████▌  | 129335296/170498071 [00:01<00:00, 107884079.16it/s]\u001b[A\n",
            " 83%|████████▎ | 140673024/170498071 [00:01<00:00, 109508777.48it/s]\u001b[A\n",
            " 89%|████████▉ | 151846912/170498071 [00:01<00:00, 110098467.25it/s]\u001b[A\n",
            "100%|██████████| 170498071/170498071 [00:01<00:00, 101440544.63it/s]\n"
          ]
        },
        {
          "name": "stdout",
          "output_type": "stream",
          "text": [
            "Extracting ./cifar-10-python.tar.gz to .\n",
            "Files already downloaded and verified\n"
          ]
        }
      ],
      "source": [
        "def cifar10_normalization():\n",
        "    normalize = transforms.Normalize(\n",
        "        mean=[x / 255.0 for x in [125.3, 123.0, 113.9]], std=[x / 255.0 for x in [63.0, 62.1, 66.7]]\n",
        "    )\n",
        "    return normalize\n",
        "\n",
        "\n",
        "train_transform = BarlowTwinsTransform(\n",
        "    train=True, input_height=32, gaussian_blur=False, jitter_strength=0.5, normalize=cifar10_normalization()\n",
        ")\n",
        "train_dataset = CIFAR10(root=\".\", train=True, download=True, transform=train_transform)\n",
        "\n",
        "val_transform = BarlowTwinsTransform(\n",
        "    train=False, input_height=32, gaussian_blur=False, jitter_strength=0.5, normalize=cifar10_normalization()\n",
        ")\n",
        "val_dataset = CIFAR10(root=\".\", train=False, download=True, transform=train_transform)\n",
        "\n",
        "train_loader = DataLoader(train_dataset, batch_size=batch_size, shuffle=True, num_workers=num_workers, drop_last=True)\n",
        "val_loader = DataLoader(val_dataset, batch_size=batch_size, shuffle=False, num_workers=num_workers, drop_last=True)"
      ]
    },
    {
      "cell_type": "code",
      "execution_count": null,
      "metadata": {
        "colab": {
          "base_uri": "https://localhost:8080/",
          "height": 286
        },
        "id": "ajNrTAzVkZWB",
        "outputId": "c3ff26a8-e380-45e3-e1f8-af4fd906346b"
      },
      "outputs": [
        {
          "data": {
            "image/png": "[encoded data removed]",
            "text/plain": [
              "<Figure size 640x480 with 1 Axes>"
            ]
          },
          "metadata": {},
          "output_type": "display_data"
        }
      ],
      "source": [
        "for batch in val_loader:\n",
        "    (img1, img2, _), label = batch\n",
        "    break\n",
        "\n",
        "img_grid = make_grid(img1, normalize=True)\n",
        "\n",
        "\n",
        "def show(imgs):\n",
        "    if not isinstance(imgs, list):\n",
        "        imgs = [imgs]\n",
        "    fix, axs = plt.subplots(ncols=len(imgs), squeeze=False)\n",
        "    for i, img in enumerate(imgs):\n",
        "        img = img.detach()\n",
        "        img = VisionF.to_pil_image(img)\n",
        "        axs[0, i].imshow(np.asarray(img))\n",
        "        axs[0, i].set(xticklabels=[], yticklabels=[], xticks=[], yticks=[])\n",
        "\n",
        "\n",
        "show(img_grid)"
      ]
    },
    {
      "cell_type": "code",
      "execution_count": null,
      "metadata": {
        "id": "fQhyWYz9kZTo"
      },
      "outputs": [],
      "source": [
        "class BarlowTwinsLoss(nn.Module):\n",
        "    def __init__(self, batch_size, lambda_coeff=5e-3, z_dim=128):\n",
        "        super().__init__()\n",
        "\n",
        "        self.z_dim = z_dim\n",
        "        self.batch_size = batch_size\n",
        "        self.lambda_coeff = lambda_coeff\n",
        "\n",
        "    def off_diagonal_ele(self, x):\n",
        "        # taken from: https://github.com/facebookresearch/barlowtwins/blob/main/main.py\n",
        "        # return a flattened view of the off-diagonal elements of a square matrix\n",
        "        n, m = x.shape\n",
        "        assert n == m\n",
        "        return x.flatten()[:-1].view(n - 1, n + 1)[:, 1:].flatten()\n",
        "\n",
        "    def forward(self, z1, z2):\n",
        "        # N x D, where N is the batch size and D is output dim of projection head\n",
        "        z1_norm = (z1 - torch.mean(z1, dim=0)) / torch.std(z1, dim=0)\n",
        "        z2_norm = (z2 - torch.mean(z2, dim=0)) / torch.std(z2, dim=0)\n",
        "\n",
        "        cross_corr = torch.matmul(z1_norm.T, z2_norm) / self.batch_size\n",
        "\n",
        "        on_diag = torch.diagonal(cross_corr).add_(-1).pow_(2).sum()\n",
        "        off_diag = self.off_diagonal_ele(cross_corr).pow_(2).sum()\n",
        "\n",
        "        return on_diag + self.lambda_coeff * off_diag"
      ]
    },
    {
      "cell_type": "code",
      "execution_count": null,
      "metadata": {
        "id": "rGT6iLj3kZQg"
      },
      "outputs": [],
      "source": [
        "encoder = resnet18()\n",
        "\n",
        "# for CIFAR10, replace the first 7x7 conv with smaller 3x3 conv and remove the first maxpool\n",
        "encoder.conv1 = nn.Conv2d(3, 64, kernel_size=3, stride=1, padding=1, bias=False)\n",
        "encoder.maxpool = nn.MaxPool2d(kernel_size=1, stride=1)\n",
        "\n",
        "# replace classification fc layer of Resnet to obtain representations from the backbone\n",
        "encoder.fc = nn.Identity()"
      ]
    },
    {
      "cell_type": "code",
      "execution_count": null,
      "metadata": {
        "id": "F0vuNf_RkZMH"
      },
      "outputs": [],
      "source": [
        "class ProjectionHead(nn.Module):\n",
        "    def __init__(self, input_dim=2048, hidden_dim=2048, output_dim=128):\n",
        "        super().__init__()\n",
        "\n",
        "        self.projection_head = nn.Sequential(\n",
        "            nn.Linear(input_dim, hidden_dim, bias=True),\n",
        "            nn.BatchNorm1d(hidden_dim),\n",
        "            nn.ReLU(),\n",
        "            nn.Linear(hidden_dim, output_dim, bias=False),\n",
        "        )\n",
        "\n",
        "    def forward(self, x):\n",
        "        return self.projection_head(x)"
      ]
    },
    {
      "cell_type": "code",
      "execution_count": null,
      "metadata": {
        "id": "dPC47h5QkZJv"
      },
      "outputs": [],
      "source": [
        "def fn(warmup_steps, step):\n",
        "    if step < warmup_steps:\n",
        "        return float(step) / float(max(1, warmup_steps))\n",
        "    else:\n",
        "        return 1.0\n",
        "\n",
        "\n",
        "def linear_warmup_decay(warmup_steps):\n",
        "    return partial(fn, warmup_steps)"
      ]
    },
    {
      "cell_type": "code",
      "execution_count": null,
      "metadata": {
        "id": "ExJ2gcACkZHI"
      },
      "outputs": [],
      "source": [
        "class BarlowTwins(LightningModule):\n",
        "    def __init__(\n",
        "        self,\n",
        "        encoder,\n",
        "        encoder_out_dim,\n",
        "        num_training_samples,\n",
        "        batch_size,\n",
        "        lambda_coeff=5e-3,\n",
        "        z_dim=128,\n",
        "        learning_rate=1e-4,\n",
        "        warmup_epochs=10,\n",
        "        max_epochs=200,\n",
        "    ):\n",
        "        super().__init__()\n",
        "\n",
        "        self.encoder = encoder\n",
        "        self.projection_head = ProjectionHead(input_dim=encoder_out_dim, hidden_dim=encoder_out_dim, output_dim=z_dim)\n",
        "        self.loss_fn = BarlowTwinsLoss(batch_size=batch_size, lambda_coeff=lambda_coeff, z_dim=z_dim)\n",
        "\n",
        "        self.learning_rate = learning_rate\n",
        "        self.warmup_epochs = warmup_epochs\n",
        "        self.max_epochs = max_epochs\n",
        "\n",
        "        self.train_iters_per_epoch = num_training_samples // batch_size\n",
        "\n",
        "    def forward(self, x):\n",
        "        return self.encoder(x)\n",
        "\n",
        "    def shared_step(self, batch):\n",
        "        (x1, x2, _), _ = batch\n",
        "\n",
        "        z1 = self.projection_head(self.encoder(x1))\n",
        "        z2 = self.projection_head(self.encoder(x2))\n",
        "\n",
        "        return self.loss_fn(z1, z2)\n",
        "\n",
        "    def training_step(self, batch, batch_idx):\n",
        "        loss = self.shared_step(batch)\n",
        "        self.log(\"train_loss\", loss, on_step=True, on_epoch=False)\n",
        "        return loss\n",
        "\n",
        "    def validation_step(self, batch, batch_idx):\n",
        "        loss = self.shared_step(batch)\n",
        "        self.log(\"val_loss\", loss, on_step=False, on_epoch=True)\n",
        "\n",
        "    def configure_optimizers(self):\n",
        "        optimizer = torch.optim.Adam(self.parameters(), lr=self.learning_rate)\n",
        "\n",
        "        warmup_steps = self.train_iters_per_epoch * self.warmup_epochs\n",
        "\n",
        "        scheduler = {\n",
        "            \"scheduler\": torch.optim.lr_scheduler.LambdaLR(\n",
        "                optimizer,\n",
        "                linear_warmup_decay(warmup_steps),\n",
        "            ),\n",
        "            \"interval\": \"step\",\n",
        "            \"frequency\": 1,\n",
        "        }\n",
        "\n",
        "        return [optimizer], [scheduler]"
      ]
    },
    {
      "cell_type": "code",
      "execution_count": null,
      "metadata": {
        "id": "CG-RxlNykx51"
      },
      "outputs": [],
      "source": [
        "class OnlineFineTuner(Callback):\n",
        "    def __init__(\n",
        "        self,\n",
        "        encoder_output_dim: int,\n",
        "        num_classes: int,\n",
        "    ) -> None:\n",
        "        super().__init__()\n",
        "\n",
        "        self.optimizer: torch.optim.Optimizer\n",
        "\n",
        "        self.encoder_output_dim = encoder_output_dim\n",
        "        self.num_classes = num_classes\n",
        "\n",
        "    def on_fit_start(self, trainer: pl.Trainer, pl_module: pl.LightningModule) -> None:\n",
        "        # add linear_eval layer and optimizer\n",
        "        pl_module.online_finetuner = nn.Linear(self.encoder_output_dim, self.num_classes).to(pl_module.device)\n",
        "        self.optimizer = torch.optim.Adam(pl_module.online_finetuner.parameters(), lr=1e-4)\n",
        "\n",
        "    def extract_online_finetuning_view(\n",
        "        self, batch: Sequence, device: Union[str, torch.device]\n",
        "    ) -> Tuple[Tensor, Tensor]:\n",
        "        (_, _, finetune_view), y = batch\n",
        "        finetune_view = finetune_view.to(device)\n",
        "        y = y.to(device)\n",
        "\n",
        "        return finetune_view, y\n",
        "\n",
        "    def on_train_batch_end(\n",
        "        self,\n",
        "        trainer: pl.Trainer,\n",
        "        pl_module: pl.LightningModule,\n",
        "        outputs: Sequence,\n",
        "        batch: Sequence,\n",
        "        batch_idx: int,\n",
        "        # dataloader_idx: int,\n",
        "    ) -> None:\n",
        "        x, y = self.extract_online_finetuning_view(batch, pl_module.device)\n",
        "\n",
        "        with torch.no_grad():\n",
        "            feats = pl_module(x)\n",
        "\n",
        "        feats = feats.detach()\n",
        "        preds = pl_module.online_finetuner(feats)\n",
        "        loss = F.cross_entropy(preds, y)\n",
        "\n",
        "        loss.backward()\n",
        "        self.optimizer.step()\n",
        "        self.optimizer.zero_grad()\n",
        "\n",
        "        acc = accuracy(F.softmax(preds, dim=1), y,task=\"multiclass\", num_classes=10)\n",
        "        pl_module.log(\"online_train_acc\", acc, on_step=True, on_epoch=False)\n",
        "        pl_module.log(\"online_train_loss\", loss, on_step=True, on_epoch=False)\n",
        "\n",
        "    def on_validation_batch_end(\n",
        "        self,\n",
        "        trainer: pl.Trainer,\n",
        "        pl_module: pl.LightningModule,\n",
        "        outputs: Sequence,\n",
        "        batch: Sequence,\n",
        "        batch_idx: int,\n",
        "        # dataloader_idx: int,\n",
        "    ) -> None:\n",
        "        x, y = self.extract_online_finetuning_view(batch, pl_module.device)\n",
        "\n",
        "        with torch.no_grad():\n",
        "            feats = pl_module(x)\n",
        "\n",
        "        feats = feats.detach()\n",
        "        preds = pl_module.online_finetuner(feats)\n",
        "        loss = F.cross_entropy(preds, y)\n",
        "\n",
        "        acc = accuracy(F.softmax(preds, dim=1), y, task=\"multiclass\", num_classes=10)\n",
        "        pl_module.log(\"online_val_acc\", acc, on_step=False, on_epoch=True, sync_dist=True)\n",
        "        pl_module.log(\"online_val_loss\", loss, on_step=False, on_epoch=True, sync_dist=True)\n"
      ]
    },
    {
      "cell_type": "code",
      "execution_count": null,
      "metadata": {
        "colab": {
          "base_uri": "https://localhost:8080/",
          "height": 515,
          "referenced_widgets": [
            "9840db7ad22244b0a71423024beb872e",
            "cc4be5baabba4f1a94e3348089c63206",
            "8a79dd139c034c8b804ce2cf3cdd97eb",
            "2f3f2ef67f24495894c3b6b09b725760",
            "b3440daee4fc48c5b9bac1b2d3768826",
            "3390815b381b46628622d16b55f3a55f",
            "2b0755a9851f4e4f86de9bf27e287c31",
            "bee8f09d0f9f45db8cacfebd6485a430",
            "44bb6d850381496a9fb4a2dbef7f3cfb",
            "34577c69f5c74e529d9b9e07387529f9",
            "341d7f881cb44e49bcd793b7069f80db",
            "1a3faa1a9a5844d88b736afc68e29493",
            "f5f0fee96b2345579da99aaa184d803f",
            "90bc4446721445558486dd7e348a4dbe",
            "6606f1abd3c642baa5329a69cdbdded7",
            "6c41d633bbcc4093b1bdfa1be996d6ca",
            "54d254f1e8db4d93876caa6e667fd0c9",
            "3d7b5b1ab2964916bc565ada508017fd",
            "ccf81c3e7aee4d8796f77a29172bbfad",
            "125a84dbb2494744b700b242ca43b0f2",
            "d9f387acecde46548cc7db7fe54314f3",
            "d6c7334ee1114db0b5f217a72f566786",
            "08566227005945d9a1adfd8554666cc8",
            "99fbec82d4fe4fca8dd75ff489cde7cb",
            "643bf26ecdc84f00baa435bcfaf2312b",
            "4c9b11e45e2649b2ac7b16e0311dbb9f",
            "7afbae6abb80439c82caffac3e62125f",
            "51bb7d950397427780c1010e68c94394",
            "04e97600d95c4637a09198160a430a40",
            "d4c942b322d14586ad5207ca4c750466",
            "ab4977e91f5445bb851384b0d02ef691",
            "89518a0d37ee47dd853d89936b45d48a",
            "377ca25b465149ed8a3eb5f56c5018b7",
            "3a8ab4d69cda4ece86578ca834ec7fe8",
            "bc58ca0002a847e3bca7640bcd93342f",
            "13560b189b0349778d3c5bea36918210",
            "b1660cd6fdf040608f4180cae4f51806",
            "b7d1af5c13f142b6b696029d4d65a391",
            "73f510515cdb45e5b3124afe9acfb3a7",
            "f8bfb81b4b8c46768bbac0abb997f3fa",
            "2a213e3ac3384f02ac9e30df0da1f8ce",
            "365d8ce4937b40a0a47a97435e4b773b",
            "0cef32a13575447f880c0d6cbd9185c4",
            "5bbbb79ba5b845a6b6d52f7cad6cd313",
            "d6ccb013bd18479a98255d348b403284",
            "09d7c3bd81794f04be9685714105111f",
            "b43ef811ebcc4605b32c9c3b6a82e0de",
            "76fd1d50760b41668fe2c771a76daa9b",
            "1dbdb8b6a0a34fb3b524a336b9aab3d7",
            "bfc39bb7f1b341a7b38290e4ec1bbb74",
            "72dca626ba544ae2bae7f26bd0d98211",
            "3c025686d1bc40fdab5aeda23a13fc52",
            "4ecb5f3dee4749a6a29f62eb380e47a9",
            "7b8bb97c017b4bdcbfa59f87985bcb87",
            "48e18901facd463896adaa62e65ff67b",
            "375852947afb4775ba6f7d17499ad8d5",
            "a52626382b3a424eb5eee8839cc50f58",
            "8d71f5d69abd43b19365d1d0e115558a",
            "df3ef0ea48294e76ba1fa0e7d19a83d8",
            "f02673a356c549ba9cd84ca1337c22b0",
            "a4ff1f3d616d4cae8bb32a159951a4d0",
            "f8790ab7fe084f68b397a0134fb8b143",
            "558c3bd590664003a271f3b6bab6428b",
            "3e7981ea02844edcad3f87778d8412b2",
            "bfcac8f7b6754a82b0c995583660b5ea",
            "68e007b38ebe44f7bbeb5df74d9384f7",
            "e72a347ec7da483897c4c8b524fb999e",
            "cfdcb442b1224269815f8bf384104ea5",
            "e2ba28fd1d4a4d98ac19c17ff3911f61",
            "78d9db14cc5e44c7b6094fd0a7e299fe",
            "c601f2b776ed45e08b69e96f3a523495",
            "ca1215d210114a409138f698cb55bf1b",
            "915aa207c2e448168003ebe5f4935de7",
            "ba6df558c55f4cd58a730d2949910a0a",
            "9e414e15c9c944a29c93fd8b7ff368e9",
            "e00a3419ee2e4f8f8d19a30ba9cd712d",
            "e304c8239d8c4b0498a669c42e5b099c",
            "3ee5740306cd493dba553f1341dc2dad",
            "493ee9b7d5b645ed95dc0b180293ac85",
            "399da09889504d40ada1523dc772d37e",
            "5264370829314e47ab54304a17070bf3",
            "61865628145e439e93a58c8f8a7ea241",
            "b1168753de694bdbbc4dc34ffe931240",
            "95fb1177746341d7a96f914263dbe38f",
            "1f1483cabc0644f5ba1ef879882c94fe",
            "f387460991cf451bb7fa0f74da66888d",
            "c008835e4f5747e19476b8dd66bcb6b2",
            "f099c71481374c6db3790327916da361",
            "beb26b482d3146db8b1653e50b2a800a",
            "d7a90746f6af46e1a5a565e88e7b3b4a",
            "bde33d0d334145719cf1def33aa59488",
            "39d6b51d06da4bd8942104762c847413",
            "0d5ee3d1d2194fddbab022b76e45c48d",
            "fc2803d64adc45429ae74a8a55651bbe",
            "0e2f8342d15f468ab3ec64d77fc06197",
            "e37995e0f6ad450ebff45ea501661a9d",
            "5081264ed1604180b7e99fc9fadf7a8a",
            "78fcf384c4844345986eaeade44fcfd4",
            "b594f2e2bf344803ac2e6b85e9a3c6f9",
            "b8f062ee1a8f4109a6e1bec4e8001b04",
            "e35b3ef2ee8640c4b4cb6e4bd24160f9",
            "861d708f61cc49efb7e9af9eb4694365",
            "e75ba97d8bb7487988d197df72414baa",
            "9eef0d2a577741a9aa0b0fce83c92119",
            "91f3eb9891ec4aba8388d56dd6af87d0",
            "c9b654a59fa74dbb9b42f02875d42a69",
            "aec753e99e7349c189a729806a4bd399",
            "36176b19327a4f1ea9094c49cc59aa53",
            "b7005945c86e41f2add916bbb474017b",
            "ca18406d72af4dba8254f0dc26bd0313",
            "4bebf6803a894a07882bd60116b5147e",
            "0770791934b04e3b86c6b971ec409933",
            "7b631a3b5ccf43adb7afb6469daf3c07",
            "580c112b313548e483dedfedc60808cf",
            "b2598df10d6649e783ab4883e7903559",
            "8df06df882ec405a81804de671c9bd38",
            "0ce83cafe826461099bdfeae0416239e",
            "521e633f4d0142df9f404598b09194ca",
            "7c5a4dddc15f414fbc73a675f589093c",
            "5053d09f9e5442739145773cdc7b2a8c",
            "b0428b9f474b4c3284a754579999a0c9",
            "390aa8cc067f4609b67271c36b2f4231",
            "efb83c9ab5cf42fcaf4f5c639399bdcc",
            "711701a9e563453aa467002de3b37e0b",
            "57c9fdb98e4e4ead92399e35aa3889e8",
            "5332017f5e69427ea9b4f246fa5b73e1",
            "86638b8b99bc4e90ae87698b788ff7cc",
            "4d8f0b88d81e456bad12e2793ea42c56",
            "d25bd33d30d84141a74df0864627702e",
            "bf145e6f9c134a408a7c810b63a4bb02",
            "3a4c64cfe6174c6e85532b85f9db1fb6",
            "4edc3b3861594a92a1288ba86d163c5e"
          ]
        },
        "id": "Ea1fXnp-kx3x",
        "outputId": "1fa4e8c5-64b6-4aa3-cdf0-e73c8a0f61b8"
      },
      "outputs": [
        {
          "name": "stderr",
          "output_type": "stream",
          "text": [
            "INFO:pytorch_lightning.utilities.rank_zero:GPU available: True (cuda), used: True\n",
            "INFO:pytorch_lightning.utilities.rank_zero:TPU available: False, using: 0 TPU cores\n",
            "INFO:pytorch_lightning.utilities.rank_zero:IPU available: False, using: 0 IPUs\n",
            "INFO:pytorch_lightning.utilities.rank_zero:HPU available: False, using: 0 HPUs\n",
            "WARNING:pytorch_lightning.loggers.tensorboard:Missing logger folder: /content/lightning_logs\n",
            "INFO:pytorch_lightning.accelerators.cuda:LOCAL_RANK: 0 - CUDA_VISIBLE_DEVICES: [0]\n",
            "INFO:pytorch_lightning.callbacks.model_summary:\n",
            "  | Name             | Type            | Params\n",
            "-----------------------------------------------------\n",
            "0 | encoder          | ResNet          | 11.2 M\n",
            "1 | projection_head  | ProjectionHead  | 329 K \n",
            "2 | loss_fn          | BarlowTwinsLoss | 0     \n",
            "3 | online_finetuner | Linear          | 5.1 K \n",
            "-----------------------------------------------------\n",
            "11.5 M    Trainable params\n",
            "0         Non-trainable params\n",
            "11.5 M    Total params\n",
            "46.013    Total estimated model params size (MB)\n"
          ]
        },
        {
          "data": {
            "application/vnd.jupyter.widget-view+json": {
              "model_id": "9840db7ad22244b0a71423024beb872e",
              "version_major": 2,
              "version_minor": 0
            },
            "text/plain": [
              "Sanity Checking: |          | 0/? [00:00<?, ?it/s]"
            ]
          },
          "metadata": {},
          "output_type": "display_data"
        },
        {
          "name": "stderr",
          "output_type": "stream",
          "text": [
            "/usr/local/lib/python3.10/dist-packages/torch/utils/data/dataloader.py:558: UserWarning: This DataLoader will create 8 worker processes in total. Our suggested max number of worker in current system is 2, which is smaller than what this DataLoader is going to create. Please be aware that excessive worker creation might get DataLoader running slow or even freeze, lower the worker number to avoid potential slowness/freeze if necessary.\n",
            "  warnings.warn(_create_warning_msg(\n",
            "/usr/lib/python3.10/multiprocessing/popen_fork.py:66: RuntimeWarning: os.fork() was called. os.fork() is incompatible with multithreaded code, and JAX is multithreaded, so this will likely lead to a deadlock.\n",
            "  self.pid = os.fork()\n"
          ]
        },
        {
          "data": {
            "application/vnd.jupyter.widget-view+json": {
              "model_id": "1a3faa1a9a5844d88b736afc68e29493",
              "version_major": 2,
              "version_minor": 0
            },
            "text/plain": [
              "Training: |          | 0/? [00:00<?, ?it/s]"
            ]
          },
          "metadata": {},
          "output_type": "display_data"
        },
        {
          "name": "stderr",
          "output_type": "stream",
          "text": [
            "/usr/lib/python3.10/multiprocessing/popen_fork.py:66: RuntimeWarning: os.fork() was called. os.fork() is incompatible with multithreaded code, and JAX is multithreaded, so this will likely lead to a deadlock.\n",
            "  self.pid = os.fork()\n"
          ]
        },
        {
          "data": {
            "application/vnd.jupyter.widget-view+json": {
              "model_id": "08566227005945d9a1adfd8554666cc8",
              "version_major": 2,
              "version_minor": 0
            },
            "text/plain": [
              "Validation: |          | 0/? [00:00<?, ?it/s]"
            ]
          },
          "metadata": {},
          "output_type": "display_data"
        },
        {
          "data": {
            "application/vnd.jupyter.widget-view+json": {
              "model_id": "3a8ab4d69cda4ece86578ca834ec7fe8",
              "version_major": 2,
              "version_minor": 0
            },
            "text/plain": [
              "Validation: |          | 0/? [00:00<?, ?it/s]"
            ]
          },
          "metadata": {},
          "output_type": "display_data"
        },
        {
          "data": {
            "application/vnd.jupyter.widget-view+json": {
              "model_id": "d6ccb013bd18479a98255d348b403284",
              "version_major": 2,
              "version_minor": 0
            },
            "text/plain": [
              "Validation: |          | 0/? [00:00<?, ?it/s]"
            ]
          },
          "metadata": {},
          "output_type": "display_data"
        },
        {
          "data": {
            "application/vnd.jupyter.widget-view+json": {
              "model_id": "375852947afb4775ba6f7d17499ad8d5",
              "version_major": 2,
              "version_minor": 0
            },
            "text/plain": [
              "Validation: |          | 0/? [00:00<?, ?it/s]"
            ]
          },
          "metadata": {},
          "output_type": "display_data"
        },
        {
          "data": {
            "application/vnd.jupyter.widget-view+json": {
              "model_id": "e72a347ec7da483897c4c8b524fb999e",
              "version_major": 2,
              "version_minor": 0
            },
            "text/plain": [
              "Validation: |          | 0/? [00:00<?, ?it/s]"
            ]
          },
          "metadata": {},
          "output_type": "display_data"
        },
        {
          "data": {
            "application/vnd.jupyter.widget-view+json": {
              "model_id": "3ee5740306cd493dba553f1341dc2dad",
              "version_major": 2,
              "version_minor": 0
            },
            "text/plain": [
              "Validation: |          | 0/? [00:00<?, ?it/s]"
            ]
          },
          "metadata": {},
          "output_type": "display_data"
        },
        {
          "data": {
            "application/vnd.jupyter.widget-view+json": {
              "model_id": "beb26b482d3146db8b1653e50b2a800a",
              "version_major": 2,
              "version_minor": 0
            },
            "text/plain": [
              "Validation: |          | 0/? [00:00<?, ?it/s]"
            ]
          },
          "metadata": {},
          "output_type": "display_data"
        },
        {
          "data": {
            "application/vnd.jupyter.widget-view+json": {
              "model_id": "b8f062ee1a8f4109a6e1bec4e8001b04",
              "version_major": 2,
              "version_minor": 0
            },
            "text/plain": [
              "Validation: |          | 0/? [00:00<?, ?it/s]"
            ]
          },
          "metadata": {},
          "output_type": "display_data"
        },
        {
          "data": {
            "application/vnd.jupyter.widget-view+json": {
              "model_id": "4bebf6803a894a07882bd60116b5147e",
              "version_major": 2,
              "version_minor": 0
            },
            "text/plain": [
              "Validation: |          | 0/? [00:00<?, ?it/s]"
            ]
          },
          "metadata": {},
          "output_type": "display_data"
        },
        {
          "data": {
            "application/vnd.jupyter.widget-view+json": {
              "model_id": "390aa8cc067f4609b67271c36b2f4231",
              "version_major": 2,
              "version_minor": 0
            },
            "text/plain": [
              "Validation: |          | 0/? [00:00<?, ?it/s]"
            ]
          },
          "metadata": {},
          "output_type": "display_data"
        },
        {
          "name": "stderr",
          "output_type": "stream",
          "text": [
            "INFO:pytorch_lightning.utilities.rank_zero:`Trainer.fit` stopped: `max_epochs=10` reached.\n"
          ]
        }
      ],
      "source": [
        "encoder_out_dim = 512\n",
        "\n",
        "model = BarlowTwins(\n",
        "    encoder=encoder,\n",
        "    encoder_out_dim=encoder_out_dim,\n",
        "    num_training_samples=len(train_dataset),\n",
        "    batch_size=batch_size,\n",
        "    z_dim=z_dim,\n",
        ")\n",
        "\n",
        "online_finetuner = OnlineFineTuner(encoder_output_dim=encoder_out_dim, num_classes=10)\n",
        "checkpoint_callback = ModelCheckpoint(every_n_epochs=100, save_top_k=-1, save_last=True)\n",
        "\n",
        "trainer = Trainer(\n",
        "    max_epochs=max_epochs,\n",
        "    accelerator=\"gpu\",\n",
        "    devices=1 if torch.cuda.is_available() else None,  # limiting got iPython runs\n",
        "    callbacks=[online_finetuner, checkpoint_callback],\n",
        ")\n",
        "\n",
        "# train the model\n",
        "trainer.fit(model, train_loader, val_loader)"
      ]
    },
    {
      "cell_type": "code",
      "execution_count": null,
      "metadata": {
        "id": "o2DZCsjj1rZx"
      },
      "outputs": [],
      "source": [
        "# References:\n",
        "# * https://lightning.ai/docs/pytorch/LTS/notebooks/lightning_examples/barlow-twins.html\n",
        "# * https://github.com/facebookresearch/barlowtwins/blob/main/main.py\n",
        "# * LLMs including OpenAI's chatGPT\n",
        "# * lecture notes and slides provided in class\n",
        "\n",
        "# We understand the importance of academic integrity and hence, have mentioned all the references that we have used for this project and we\n",
        "# credit all our abovementioned sources."
      ]
    },
    {
      "cell_type": "markdown",
      "metadata": {
        "id": "9Te-O8wu1aBh"
      },
      "source": [
        "# References\n",
        "\n",
        "[1] Chen, T., Kornblith, S., Norouzi, M., and Hinton, G. (2020). A simple framework for contrastive learning of visual representations. In International conference on machine learning (pp. 1597-1607). PMLR. ([link](https://arxiv.org/abs/2002.05709))\n",
        "\n",
        "[2] Chen, T., Kornblith, S., Swersky, K., Norouzi, M., and Hinton, G. (2020). Big self-supervised models are strong semi-supervised learners. NeurIPS 2021 ([link](https://arxiv.org/abs/2006.10029)).\n",
        "\n",
        "[3] Oord, A. V. D., Li, Y., and Vinyals, O. (2018). Representation learning with contrastive predictive coding. arXiv preprint arXiv:1807.03748. ([link](https://arxiv.org/abs/1807.03748))\n",
        "\n",
        "[4] Grill, J.B., Strub, F., Altché, F., Tallec, C., Richemond, P.H., Buchatskaya, E., Doersch, C., Pires, B.A., Guo, Z.D., Azar, M.G. and Piot, B. (2020). Bootstrap your own latent: A new approach to self-supervised learning. arXiv preprint arXiv:2006.07733. ([link](https://arxiv.org/abs/2006.07733))\n",
        "\n",
        "[5] Khosla, P., Teterwak, P., Wang, C., Sarna, A., Tian, Y., Isola, P., Maschinot, A., Liu, C. and Krishnan, D. (2020). Supervised contrastive learning. arXiv preprint arXiv:2004.11362. ([link](https://arxiv.org/abs/2004.11362))\n",
        "\n",
        "[6] Zbontar, J., Jing, L., Misra, I., LeCun, Y. and Deny, S. (2021). Barlow twins: Self-supervised learning via redundancy reduction. arXiv preprint arXiv:2103.03230. ([link](https://arxiv.org/abs/2103.03230))"
      ]
    }
  ],
  "metadata": {
    "colab": {
      "provenance": []
    },
    "kernelspec": {
      "display_name": "Python 3 (ipykernel)",
      "language": "python",
      "name": "python3"
    },
    "language_info": {
      "codemirror_mode": {
        "name": "ipython",
        "version": 3
      },
      "file_extension": ".py",
      "mimetype": "text/x-python",
      "name": "python",
      "nbconvert_exporter": "python",
      "pygments_lexer": "ipython3",
      "version": "3.10.14"
    }
  },
  "nbformat": 4,
  "nbformat_minor": 0
}
